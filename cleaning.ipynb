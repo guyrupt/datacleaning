{
  "cells": [
    {
      "cell_type": "code",
      "execution_count": 1,
      "metadata": {
        "collapsed": true,
        "id": "605fxhzbsoGH"
      },
      "outputs": [],
      "source": [
        "import pandas as pd\n",
        "import re"
      ]
    },
    {
      "cell_type": "markdown",
      "metadata": {
        "collapsed": false,
        "id": "P4B8uW2UsoGJ"
      },
      "source": [
        "# Read the data"
      ]
    },
    {
      "cell_type": "code",
      "execution_count": 2,
      "metadata": {
        "colab": {
          "base_uri": "https://localhost:8080/"
        },
        "id": "5xNAr-bMsoGK",
        "outputId": "d7ec4f5d-7e4b-4900-d1f8-c64f0346e582"
      },
      "outputs": [
        {
          "data": {
            "text/plain": [
              "Index(['product_id', 'product_name', 'category', 'discounted_price',\n",
              "       'actual_price', 'discount_percentage', 'rating', 'rating_count',\n",
              "       'about_product', 'user_id', 'user_name', 'review_id', 'review_title',\n",
              "       'review_content', 'img_link', 'product_link'],\n",
              "      dtype='object')"
            ]
          },
          "execution_count": 2,
          "metadata": {},
          "output_type": "execute_result"
        }
      ],
      "source": [
        "data = pd.read_csv('Amazon.csv')\n",
        "data.columns"
      ]
    },
    {
      "cell_type": "markdown",
      "metadata": {
        "collapsed": false,
        "id": "ADSU90X8soGL"
      },
      "source": [
        "# Remove the columns that are not needed"
      ]
    },
    {
      "cell_type": "code",
      "execution_count": 3,
      "metadata": {
        "colab": {
          "base_uri": "https://localhost:8080/"
        },
        "id": "90Dkl-VCsoGL",
        "outputId": "63389057-ef37-4bcf-9857-269fb0ff3952"
      },
      "outputs": [
        {
          "data": {
            "text/plain": [
              "Index(['product_name', 'about_product', 'review_title', 'review_content',\n",
              "       'img_link'],\n",
              "      dtype='object')"
            ]
          },
          "execution_count": 3,
          "metadata": {},
          "output_type": "execute_result"
        }
      ],
      "source": [
        "data = data[['product_name', 'about_product', 'review_title', 'review_content', 'img_link']]\n",
        "data.columns"
      ]
    },
    {
      "cell_type": "code",
      "execution_count": 4,
      "metadata": {
        "colab": {
          "base_uri": "https://localhost:8080/",
          "height": 414
        },
        "id": "zalcMFEKsoGM",
        "outputId": "fb58ebf2-e3fd-4a2f-8c77-e38ebb712d7a"
      },
      "outputs": [
        {
          "data": {
            "text/html": [
              "<div>\n",
              "<style scoped>\n",
              "    .dataframe tbody tr th:only-of-type {\n",
              "        vertical-align: middle;\n",
              "    }\n",
              "\n",
              "    .dataframe tbody tr th {\n",
              "        vertical-align: top;\n",
              "    }\n",
              "\n",
              "    .dataframe thead th {\n",
              "        text-align: right;\n",
              "    }\n",
              "</style>\n",
              "<table border=\"1\" class=\"dataframe\">\n",
              "  <thead>\n",
              "    <tr style=\"text-align: right;\">\n",
              "      <th></th>\n",
              "      <th>product_name</th>\n",
              "      <th>about_product</th>\n",
              "      <th>review_title</th>\n",
              "      <th>review_content</th>\n",
              "      <th>img_link</th>\n",
              "    </tr>\n",
              "  </thead>\n",
              "  <tbody>\n",
              "    <tr>\n",
              "      <th>0</th>\n",
              "      <td>D-Link DWA-131 300 Mbps Wireless Nano USB Adap...</td>\n",
              "      <td>Connects your computer to a high-speed wireles...</td>\n",
              "      <td>good tool to use for,Brand is always good,Over...</td>\n",
              "      <td>good quality tool from d linkWiFi signal is go...</td>\n",
              "      <td>https://m.media-amazon.com/images/I/31+NwZ8gb1...</td>\n",
              "    </tr>\n",
              "    <tr>\n",
              "      <th>1</th>\n",
              "      <td>D-Link DWA-131 300 Mbps Wireless Nano USB Adap...</td>\n",
              "      <td>Connects your computer to a high-speed wireles...</td>\n",
              "      <td>good tool to use for,Brand is always good,Over...</td>\n",
              "      <td>good quality tool from d linkWiFi signal is go...</td>\n",
              "      <td>https://m.media-amazon.com/images/W/WEBP_40237...</td>\n",
              "    </tr>\n",
              "    <tr>\n",
              "      <th>2</th>\n",
              "      <td>TP-Link Nano USB WiFi Dongle 150Mbps High Gain...</td>\n",
              "      <td>150 Mbps Wi-Fi —— Exceptional wireless speed u...</td>\n",
              "      <td>Works on linux for me. Get the model with ante...</td>\n",
              "      <td>I use this to connect an old PC to internet. I...</td>\n",
              "      <td>https://m.media-amazon.com/images/I/31Wb+A3VVd...</td>\n",
              "    </tr>\n",
              "    <tr>\n",
              "      <th>3</th>\n",
              "      <td>Duracell Plus AAA Rechargeable Batteries (750 ...</td>\n",
              "      <td>Duracell Rechargeable AAA 750mAh batteries sta...</td>\n",
              "      <td>Works Good,Perfect replacement cell for trimme...</td>\n",
              "      <td>Works good,Bought it to replace my Phillips QT...</td>\n",
              "      <td>https://m.media-amazon.com/images/I/418YrbHVLC...</td>\n",
              "    </tr>\n",
              "    <tr>\n",
              "      <th>4</th>\n",
              "      <td>Logitech B100 Wired USB Mouse, 3 yr Warranty, ...</td>\n",
              "      <td>A comfortable, ambidextrous shape feels good i...</td>\n",
              "      <td>Handy Mouse,Good quality mouse,Good one.,Good,...</td>\n",
              "      <td>Liked this Product,https://m.media-amazon.com/...</td>\n",
              "      <td>https://m.media-amazon.com/images/I/31iFF1Kbkp...</td>\n",
              "    </tr>\n",
              "  </tbody>\n",
              "</table>\n",
              "</div>"
            ],
            "text/plain": [
              "                                        product_name  \\\n",
              "0  D-Link DWA-131 300 Mbps Wireless Nano USB Adap...   \n",
              "1  D-Link DWA-131 300 Mbps Wireless Nano USB Adap...   \n",
              "2  TP-Link Nano USB WiFi Dongle 150Mbps High Gain...   \n",
              "3  Duracell Plus AAA Rechargeable Batteries (750 ...   \n",
              "4  Logitech B100 Wired USB Mouse, 3 yr Warranty, ...   \n",
              "\n",
              "                                       about_product  \\\n",
              "0  Connects your computer to a high-speed wireles...   \n",
              "1  Connects your computer to a high-speed wireles...   \n",
              "2  150 Mbps Wi-Fi —— Exceptional wireless speed u...   \n",
              "3  Duracell Rechargeable AAA 750mAh batteries sta...   \n",
              "4  A comfortable, ambidextrous shape feels good i...   \n",
              "\n",
              "                                        review_title  \\\n",
              "0  good tool to use for,Brand is always good,Over...   \n",
              "1  good tool to use for,Brand is always good,Over...   \n",
              "2  Works on linux for me. Get the model with ante...   \n",
              "3  Works Good,Perfect replacement cell for trimme...   \n",
              "4  Handy Mouse,Good quality mouse,Good one.,Good,...   \n",
              "\n",
              "                                      review_content  \\\n",
              "0  good quality tool from d linkWiFi signal is go...   \n",
              "1  good quality tool from d linkWiFi signal is go...   \n",
              "2  I use this to connect an old PC to internet. I...   \n",
              "3  Works good,Bought it to replace my Phillips QT...   \n",
              "4  Liked this Product,https://m.media-amazon.com/...   \n",
              "\n",
              "                                            img_link  \n",
              "0  https://m.media-amazon.com/images/I/31+NwZ8gb1...  \n",
              "1  https://m.media-amazon.com/images/W/WEBP_40237...  \n",
              "2  https://m.media-amazon.com/images/I/31Wb+A3VVd...  \n",
              "3  https://m.media-amazon.com/images/I/418YrbHVLC...  \n",
              "4  https://m.media-amazon.com/images/I/31iFF1Kbkp...  "
            ]
          },
          "execution_count": 4,
          "metadata": {},
          "output_type": "execute_result"
        }
      ],
      "source": [
        "data.head()"
      ]
    },
    {
      "cell_type": "markdown",
      "metadata": {
        "id": "5ume8SL1soGM"
      },
      "source": [
        "# Merge Amazon Scrap data"
      ]
    },
    {
      "cell_type": "code",
      "execution_count": 5,
      "metadata": {
        "colab": {
          "base_uri": "https://localhost:8080/"
        },
        "id": "S7VQjn7csoGN",
        "outputId": "06da71f6-0dc7-465c-b6a5-d7c92c4f6b71"
      },
      "outputs": [
        {
          "name": "stdout",
          "output_type": "stream",
          "text": [
            "--2023-11-21 17:04:02--  https://comp576-amazon-raw-files.s3.amazonaws.com/amazon-scrap.csv\n",
            "正在查找主機 comp576-amazon-raw-files.s3.amazonaws.com (comp576-amazon-raw-files.s3.amazonaws.com)... 54.231.135.65, 52.217.13.148, 52.217.233.65, ...\n",
            "正在連接 comp576-amazon-raw-files.s3.amazonaws.com (comp576-amazon-raw-files.s3.amazonaws.com)|54.231.135.65|:443... 連上了。\n",
            "已送出 HTTP 要求，正在等候回應... 200 OK\n",
            "長度: 1951873 (1.9M) [text/csv]\n",
            "儲存到：「amazon-scrap.csv」\n",
            "\n",
            "amazon-scrap.csv    100%[===================>]   1.86M  6.24MB/s  於 0.3s       \n",
            "\n",
            "2023-11-21 17:04:02 (6.24 MB/s) - 已儲存 「amazon-scrap.csv」 [1951873/1951873]\n",
            "\n"
          ]
        }
      ],
      "source": [
        "!wget -O amazon-scrap.csv https://comp576-amazon-raw-files.s3.amazonaws.com/amazon-scrap.csv"
      ]
    },
    {
      "cell_type": "code",
      "execution_count": 6,
      "metadata": {
        "id": "zEzFFpsasoGN"
      },
      "outputs": [],
      "source": [
        "df_scrap = pd.read_csv('amazon-scrap.csv')\n",
        "\n",
        "data = pd.concat([data, df_scrap], ignore_index=True)"
      ]
    },
    {
      "cell_type": "markdown",
      "metadata": {
        "collapsed": false,
        "id": "yESIvn_QsoGN"
      },
      "source": [
        "# Remove the text in brackets in product_name"
      ]
    },
    {
      "cell_type": "code",
      "execution_count": 7,
      "metadata": {
        "colab": {
          "base_uri": "https://localhost:8080/"
        },
        "id": "xfQVf1JosoGN",
        "outputId": "cce91c0b-3a62-48d2-8de0-e18aad26d61a"
      },
      "outputs": [
        {
          "name": "stderr",
          "output_type": "stream",
          "text": [
            "/var/folders/x5/7s5_kq6n4csd_vwyt83pctz40000gn/T/ipykernel_20449/559871520.py:1: FutureWarning: The default value of regex will change from True to False in a future version.\n",
            "  data['product_name'] = data['product_name'].str.replace(r\"\\(.*?\\)\", \"\")\n"
          ]
        }
      ],
      "source": [
        "data['product_name'] = data['product_name'].str.replace(r\"\\(.*?\\)\", \"\")"
      ]
    },
    {
      "cell_type": "code",
      "execution_count": 8,
      "metadata": {
        "id": "clY9YUhtsoGO"
      },
      "outputs": [],
      "source": [
        "from cleantext import clean\n",
        "\n",
        "def clean_text(text):\n",
        "\n",
        "    # Remove non-English words but keep '.', ',', '!'\n",
        "    text = re.sub('[^a-zA-Z0-9 \\n.,!-]', '', text)\n",
        "\n",
        "    # Remove comma if nothing follows\n",
        "    text = ','.join([word for word in text.split(',') if word.strip()])\n",
        "\n",
        "    # # Add space to number and unit, ex: 150ft -> 150 ft\n",
        "    text = re.sub(r'(\\d+)([A-Za-z]+)', r'\\1 \\2', text)\n",
        "\n",
        "    # # Remove quote\n",
        "    text = text.replace('\"', '').replace(\"'\", '')\n",
        "\n",
        "    text = clean(text,\n",
        "              fix_unicode=True,               # fix various unicode errors\n",
        "              to_ascii=True,                  # transliterate to closest ASCII representation\n",
        "              lower=True,                     # lowercase text\n",
        "              no_line_breaks=False,           # fully strip line breaks as opposed to only normalizing them\n",
        "              no_urls=True,                   # replace all URLs with a special token\n",
        "              no_emails=False,                # replace all email addresses with a special token\n",
        "              no_phone_numbers=False,         # replace all phone numbers with a special token\n",
        "              no_numbers=False,               # replace all numbers with a special token\n",
        "              no_digits=False,                # replace all digits with a special token\n",
        "              no_currency_symbols=False,      # replace all currency symbols with a special token\n",
        "              no_punct=False,                 # remove punctuations\n",
        "              no_emoji=True,                  # remove emojis\n",
        "              replace_with_punct=\"\",          # instead of removing punctuations you may replace them\n",
        "              replace_with_url=\"\",\n",
        "              replace_with_email=\"\",\n",
        "              replace_with_phone_number=\"\",\n",
        "              replace_with_number=\"<NUMBER>\",\n",
        "              replace_with_currency_symbol=\"\",\n",
        "              lang=\"en\"                       # set to 'de' for German special handling\n",
        "              )\n",
        "    return text"
      ]
    },
    {
      "cell_type": "markdown",
      "metadata": {
        "collapsed": false,
        "id": "iwRguHGtsoGO"
      },
      "source": [
        "# Remove URLs and non-English words"
      ]
    },
    {
      "cell_type": "markdown",
      "metadata": {
        "id": "rlBC3f8c45Fb"
      },
      "source": [
        "Remove row if column is nan\n"
      ]
    },
    {
      "cell_type": "code",
      "execution_count": 9,
      "metadata": {
        "id": "6sgL0qWi48W-"
      },
      "outputs": [],
      "source": [
        "data = data[data['review_content'].notna()]"
      ]
    },
    {
      "cell_type": "code",
      "execution_count": 10,
      "metadata": {
        "id": "wkmhJfS1soGO"
      },
      "outputs": [],
      "source": [
        "data['product_name'] = data['product_name'].apply(clean_text)\n",
        "# data['about_product'] = data['about_product'].apply(clean_text)\n",
        "data['review_title'] = data['review_title'].apply(clean_text)\n",
        "data['review_content'] = data['review_content'].apply(clean_text)"
      ]
    },
    {
      "cell_type": "markdown",
      "metadata": {
        "collapsed": false,
        "id": "VRXncs5qsoGO"
      },
      "source": [
        "# Download the images"
      ]
    },
    {
      "cell_type": "code",
      "execution_count": 87,
      "metadata": {
        "id": "vyyp7EjksoGP"
      },
      "outputs": [],
      "source": [
        "!mkdir image"
      ]
    },
    {
      "cell_type": "code",
      "execution_count": 11,
      "metadata": {
        "colab": {
          "base_uri": "https://localhost:8080/"
        },
        "id": "PSie5nuIsoGP",
        "outputId": "f7d4ff50-9d4e-4ca8-9218-39a16fe6e293"
      },
      "outputs": [
        {
          "data": {
            "text/plain": [
              "0    https://m.media-amazon.com/images/I/31+NwZ8gb1...\n",
              "1    https://m.media-amazon.com/images/W/WEBP_40237...\n",
              "2    https://m.media-amazon.com/images/I/31Wb+A3VVd...\n",
              "3    https://m.media-amazon.com/images/I/418YrbHVLC...\n",
              "4    https://m.media-amazon.com/images/I/31iFF1Kbkp...\n",
              "Name: img_link, dtype: object"
            ]
          },
          "execution_count": 11,
          "metadata": {},
          "output_type": "execute_result"
        }
      ],
      "source": [
        "data['img_link'].head()"
      ]
    },
    {
      "cell_type": "code",
      "execution_count": 12,
      "metadata": {
        "id": "ogX7PdBVsoGP"
      },
      "outputs": [],
      "source": [
        "import requests\n",
        "from PIL import Image\n",
        "\n",
        "def download_image(url, file_name, index):\n",
        "    r = requests.get(url, stream=True)\n",
        "\n",
        "    # First check if the image is already downloaded\n",
        "    try:\n",
        "        img = Image.open('image/' + str(index) + '.jpg')\n",
        "\n",
        "        return True\n",
        "    except:\n",
        "        # If not, download it\n",
        "        if r.status_code == 200:\n",
        "            with open(file_name, 'wb') as f:\n",
        "                for chunk in r:\n",
        "                    f.write(chunk)\n",
        "\n",
        "            return True\n",
        "\n",
        "        else:\n",
        "            print('Image couldn\\'t be retrieved for ' + file_name, url)\n",
        "            return False"
      ]
    },
    {
      "cell_type": "code",
      "execution_count": 13,
      "metadata": {
        "id": "Rf4srHozsoGP"
      },
      "outputs": [],
      "source": [
        "skipped_index = set()\n",
        "\n",
        "for i, row in data.iterrows():\n",
        "    # if image exists, skip\n",
        "    exist = download_image(row['img_link'], 'image/' + str(i) + '.jpg', i)\n",
        "\n",
        "    if not exist:\n",
        "        skipped_index.add(i)"
      ]
    },
    {
      "cell_type": "code",
      "execution_count": 14,
      "metadata": {},
      "outputs": [
        {
          "data": {
            "text/plain": [
              "317"
            ]
          },
          "execution_count": 14,
          "metadata": {},
          "output_type": "execute_result"
        }
      ],
      "source": [
        "len(skipped_index)"
      ]
    },
    {
      "cell_type": "code",
      "execution_count": 16,
      "metadata": {
        "id": "5Ylzo256soGP"
      },
      "outputs": [],
      "source": [
        "# Drop the rows that don't have images\n",
        "data = data.drop(skipped_index)"
      ]
    },
    {
      "cell_type": "markdown",
      "metadata": {
        "collapsed": false,
        "id": "Twziu_sXsoGP"
      },
      "source": [
        "# Save the data"
      ]
    },
    {
      "cell_type": "code",
      "execution_count": 18,
      "metadata": {
        "id": "YXtgnciGsoGP"
      },
      "outputs": [],
      "source": [
        "data.to_csv('Amazon_cleaned.csv', index_label='index')"
      ]
    },
    {
      "cell_type": "code",
      "execution_count": 97,
      "metadata": {
        "id": "mma69VnNsoGP"
      },
      "outputs": [],
      "source": [
        "from PIL import Image\n",
        "\n",
        "# check if every image is downloaded\n",
        "\n",
        "for i, row in data.iterrows():\n",
        "    try:\n",
        "        img = Image.open('image/' + str(i) + '.jpg')\n",
        "    except:\n",
        "        print(i)"
      ]
    },
    {
      "cell_type": "code",
      "execution_count": 24,
      "metadata": {
        "id": "oFVSzKaksoGP"
      },
      "outputs": [],
      "source": [
        "!zip -r -qq image.zip image"
      ]
    },
    {
      "cell_type": "code",
      "execution_count": null,
      "metadata": {
        "id": "jWRezE5RsoGP",
        "outputId": "9df16454-04a6-47c4-876d-0907d17bc3aa"
      },
      "outputs": [
        {
          "name": "stdout",
          "output_type": "stream",
          "text": [
            "2022-02-12 05:33:10 cf-templates-7x4o2u7ssxah-us-east-1\r\n",
            "2023-11-16 13:07:55 comp576-image-data\r\n"
          ]
        }
      ],
      "source": [
        "!aws s3 ls --profile iamadmin-general"
      ]
    },
    {
      "cell_type": "code",
      "execution_count": 26,
      "metadata": {},
      "outputs": [
        {
          "name": "stdout",
          "output_type": "stream",
          "text": [
            "zsh:1: command not found: aws\n"
          ]
        }
      ],
      "source": [
        "!aws s3 cp image.zip s3://comp576-image-data/ --acl public-read"
      ]
    },
    {
      "cell_type": "code",
      "execution_count": null,
      "metadata": {
        "id": "YBy31onasoGQ",
        "outputId": "88422653-b448-4ab1-ba97-7458f10ceb37"
      },
      "outputs": [
        {
          "name": "stdout",
          "output_type": "stream",
          "text": [
            "upload: ./image.zip to s3://comp576-image-data/image.zip          \r\n"
          ]
        }
      ],
      "source": [
        "!aws s3 cp image.zip s3://comp576-image-data/ --acl public-read --profile iamadmin-general"
      ]
    },
    {
      "cell_type": "code",
      "execution_count": null,
      "metadata": {
        "id": "8de_DuzosoGQ",
        "outputId": "a47791df-2806-40e5-a56c-6c95d35b3ade"
      },
      "outputs": [
        {
          "name": "stdout",
          "output_type": "stream",
          "text": [
            "2023-11-20 18:18:00    7369597 image.zip\r\n"
          ]
        }
      ],
      "source": [
        "!aws s3 ls s3://comp576-image-data/ --profile iamadmin-general"
      ]
    },
    {
      "cell_type": "markdown",
      "metadata": {
        "collapsed": false,
        "id": "jlfNoSC5soGQ"
      },
      "source": [
        "# Object url: https://comp576-image-data.s3.us-east-2.amazonaws.com/image.zip"
      ]
    }
  ],
  "metadata": {
    "colab": {
      "provenance": []
    },
    "kernelspec": {
      "display_name": "Python 3",
      "language": "python",
      "name": "python3"
    },
    "language_info": {
      "codemirror_mode": {
        "name": "ipython",
        "version": 3
      },
      "file_extension": ".py",
      "mimetype": "text/x-python",
      "name": "python",
      "nbconvert_exporter": "python",
      "pygments_lexer": "ipython3",
      "version": "3.10.13"
    }
  },
  "nbformat": 4,
  "nbformat_minor": 0
}

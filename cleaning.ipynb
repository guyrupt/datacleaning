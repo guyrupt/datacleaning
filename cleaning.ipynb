{
 "cells": [
  {
   "cell_type": "code",
   "execution_count": 1,
   "metadata": {
    "collapsed": true
   },
   "outputs": [],
   "source": [
    "import pandas as pd\n",
    "import re"
   ]
  },
  {
   "cell_type": "markdown",
   "source": [
    "# Read the data"
   ],
   "metadata": {
    "collapsed": false
   }
  },
  {
   "cell_type": "code",
   "execution_count": 2,
   "outputs": [
    {
     "data": {
      "text/plain": "Index(['product_id', 'product_name', 'category', 'discounted_price',\n       'actual_price', 'discount_percentage', 'rating', 'rating_count',\n       'about_product', 'user_id', 'user_name', 'review_id', 'review_title',\n       'review_content', 'img_link', 'product_link'],\n      dtype='object')"
     },
     "execution_count": 2,
     "metadata": {},
     "output_type": "execute_result"
    }
   ],
   "source": [
    "data = pd.read_csv('Amazon.csv')\n",
    "data.columns"
   ],
   "metadata": {
    "collapsed": false
   }
  },
  {
   "cell_type": "markdown",
   "source": [
    "# Remove the columns that are not needed"
   ],
   "metadata": {
    "collapsed": false
   }
  },
  {
   "cell_type": "code",
   "execution_count": 3,
   "outputs": [
    {
     "data": {
      "text/plain": "Index(['product_name', 'about_product', 'review_title', 'review_content',\n       'img_link'],\n      dtype='object')"
     },
     "execution_count": 3,
     "metadata": {},
     "output_type": "execute_result"
    }
   ],
   "source": [
    "data = data[['product_name', 'about_product', 'review_title', 'review_content', 'img_link']]\n",
    "data.columns"
   ],
   "metadata": {
    "collapsed": false
   }
  },
  {
   "cell_type": "code",
   "execution_count": 4,
   "outputs": [
    {
     "data": {
      "text/plain": "                                        product_name  \\\n0  D-Link DWA-131 300 Mbps Wireless Nano USB Adap...   \n1  D-Link DWA-131 300 Mbps Wireless Nano USB Adap...   \n2  TP-Link Nano USB WiFi Dongle 150Mbps High Gain...   \n3  Duracell Plus AAA Rechargeable Batteries (750 ...   \n4  Logitech B100 Wired USB Mouse, 3 yr Warranty, ...   \n\n                                       about_product  \\\n0  Connects your computer to a high-speed wireles...   \n1  Connects your computer to a high-speed wireles...   \n2  150 Mbps Wi-Fi —— Exceptional wireless speed u...   \n3  Duracell Rechargeable AAA 750mAh batteries sta...   \n4  A comfortable, ambidextrous shape feels good i...   \n\n                                        review_title  \\\n0  good tool to use for,Brand is always good,Over...   \n1  good tool to use for,Brand is always good,Over...   \n2  Works on linux for me. Get the model with ante...   \n3  Works Good,Perfect replacement cell for trimme...   \n4  Handy Mouse,Good quality mouse,Good one.,Good,...   \n\n                                      review_content  \\\n0  good quality tool from d linkWiFi signal is go...   \n1  good quality tool from d linkWiFi signal is go...   \n2  I use this to connect an old PC to internet. I...   \n3  Works good,Bought it to replace my Phillips QT...   \n4  Liked this Product,https://m.media-amazon.com/...   \n\n                                            img_link  \n0  https://m.media-amazon.com/images/I/31+NwZ8gb1...  \n1  https://m.media-amazon.com/images/W/WEBP_40237...  \n2  https://m.media-amazon.com/images/I/31Wb+A3VVd...  \n3  https://m.media-amazon.com/images/I/418YrbHVLC...  \n4  https://m.media-amazon.com/images/I/31iFF1Kbkp...  ",
      "text/html": "<div>\n<style scoped>\n    .dataframe tbody tr th:only-of-type {\n        vertical-align: middle;\n    }\n\n    .dataframe tbody tr th {\n        vertical-align: top;\n    }\n\n    .dataframe thead th {\n        text-align: right;\n    }\n</style>\n<table border=\"1\" class=\"dataframe\">\n  <thead>\n    <tr style=\"text-align: right;\">\n      <th></th>\n      <th>product_name</th>\n      <th>about_product</th>\n      <th>review_title</th>\n      <th>review_content</th>\n      <th>img_link</th>\n    </tr>\n  </thead>\n  <tbody>\n    <tr>\n      <th>0</th>\n      <td>D-Link DWA-131 300 Mbps Wireless Nano USB Adap...</td>\n      <td>Connects your computer to a high-speed wireles...</td>\n      <td>good tool to use for,Brand is always good,Over...</td>\n      <td>good quality tool from d linkWiFi signal is go...</td>\n      <td>https://m.media-amazon.com/images/I/31+NwZ8gb1...</td>\n    </tr>\n    <tr>\n      <th>1</th>\n      <td>D-Link DWA-131 300 Mbps Wireless Nano USB Adap...</td>\n      <td>Connects your computer to a high-speed wireles...</td>\n      <td>good tool to use for,Brand is always good,Over...</td>\n      <td>good quality tool from d linkWiFi signal is go...</td>\n      <td>https://m.media-amazon.com/images/W/WEBP_40237...</td>\n    </tr>\n    <tr>\n      <th>2</th>\n      <td>TP-Link Nano USB WiFi Dongle 150Mbps High Gain...</td>\n      <td>150 Mbps Wi-Fi —— Exceptional wireless speed u...</td>\n      <td>Works on linux for me. Get the model with ante...</td>\n      <td>I use this to connect an old PC to internet. I...</td>\n      <td>https://m.media-amazon.com/images/I/31Wb+A3VVd...</td>\n    </tr>\n    <tr>\n      <th>3</th>\n      <td>Duracell Plus AAA Rechargeable Batteries (750 ...</td>\n      <td>Duracell Rechargeable AAA 750mAh batteries sta...</td>\n      <td>Works Good,Perfect replacement cell for trimme...</td>\n      <td>Works good,Bought it to replace my Phillips QT...</td>\n      <td>https://m.media-amazon.com/images/I/418YrbHVLC...</td>\n    </tr>\n    <tr>\n      <th>4</th>\n      <td>Logitech B100 Wired USB Mouse, 3 yr Warranty, ...</td>\n      <td>A comfortable, ambidextrous shape feels good i...</td>\n      <td>Handy Mouse,Good quality mouse,Good one.,Good,...</td>\n      <td>Liked this Product,https://m.media-amazon.com/...</td>\n      <td>https://m.media-amazon.com/images/I/31iFF1Kbkp...</td>\n    </tr>\n  </tbody>\n</table>\n</div>"
     },
     "execution_count": 4,
     "metadata": {},
     "output_type": "execute_result"
    }
   ],
   "source": [
    "data.head()"
   ],
   "metadata": {
    "collapsed": false
   }
  },
  {
   "cell_type": "markdown",
   "source": [
    "# Remove the text in brackets in product_name"
   ],
   "metadata": {
    "collapsed": false
   }
  },
  {
   "cell_type": "code",
   "execution_count": 5,
   "outputs": [
    {
     "name": "stderr",
     "output_type": "stream",
     "text": [
      "/var/folders/qz/g26vk35930l0_4xzt0__3smc0000gn/T/ipykernel_4251/176708525.py:1: FutureWarning: The default value of regex will change from True to False in a future version.\n",
      "  data['product_name'] = data['product_name'].str.replace(r\"\\(.*?\\)\", \"\")\n"
     ]
    }
   ],
   "source": [
    "data['product_name'] = data['product_name'].str.replace(r\"\\(.*?\\)\", \"\")"
   ],
   "metadata": {
    "collapsed": false
   }
  },
  {
   "cell_type": "code",
   "execution_count": 6,
   "outputs": [],
   "source": [
    "def clean_text(text):\n",
    "    # Remove URLs\n",
    "    text = re.sub(r'\\bhttp\\S+|\\bwww\\.\\S+', '', text)\n",
    "\n",
    "    # Remove non-English words but keep '.', ',', '!'\n",
    "    text = re.sub('[^a-zA-Z0-9 \\n\\.,!]', '', text)\n",
    "\n",
    "    return text"
   ],
   "metadata": {
    "collapsed": false
   }
  },
  {
   "cell_type": "markdown",
   "source": [
    "# Remove URLs and non-English words"
   ],
   "metadata": {
    "collapsed": false
   }
  },
  {
   "cell_type": "code",
   "execution_count": 7,
   "outputs": [],
   "source": [
    "data['product_name'] = data['product_name'].apply(clean_text)\n",
    "data['review_title'] = data['review_title'].apply(clean_text)\n",
    "data['review_content'] = data['review_content'].apply(clean_text)"
   ],
   "metadata": {
    "collapsed": false
   }
  },
  {
   "cell_type": "markdown",
   "source": [
    "# Download the images"
   ],
   "metadata": {
    "collapsed": false
   }
  },
  {
   "cell_type": "code",
   "execution_count": 8,
   "outputs": [
    {
     "name": "stdout",
     "output_type": "stream",
     "text": [
      "mkdir: image: File exists\r\n"
     ]
    }
   ],
   "source": [
    "!mkdir image"
   ],
   "metadata": {
    "collapsed": false
   }
  },
  {
   "cell_type": "code",
   "execution_count": 9,
   "outputs": [
    {
     "data": {
      "text/plain": "0    https://m.media-amazon.com/images/I/31+NwZ8gb1...\n1    https://m.media-amazon.com/images/W/WEBP_40237...\n2    https://m.media-amazon.com/images/I/31Wb+A3VVd...\n3    https://m.media-amazon.com/images/I/418YrbHVLC...\n4    https://m.media-amazon.com/images/I/31iFF1Kbkp...\nName: img_link, dtype: object"
     },
     "execution_count": 9,
     "metadata": {},
     "output_type": "execute_result"
    }
   ],
   "source": [
    "data['img_link'].head()"
   ],
   "metadata": {
    "collapsed": false
   }
  },
  {
   "cell_type": "code",
   "execution_count": 10,
   "outputs": [],
   "source": [
    "import requests"
   ],
   "metadata": {
    "collapsed": false
   }
  },
  {
   "cell_type": "code",
   "execution_count": 11,
   "outputs": [],
   "source": [
    "def download_image(url, file_name):\n",
    "    r = requests.get(url, stream=True)\n",
    "    if r.status_code == 200:\n",
    "        with open(file_name, 'wb') as f:\n",
    "            for chunk in r:\n",
    "                f.write(chunk)"
   ],
   "metadata": {
    "collapsed": false
   }
  },
  {
   "cell_type": "code",
   "execution_count": 12,
   "outputs": [],
   "source": [
    "for i, row in data.iterrows():\n",
    "    download_image(row['img_link'], 'image/' + str(i) + '.jpg')"
   ],
   "metadata": {
    "collapsed": false
   }
  },
  {
   "cell_type": "markdown",
   "source": [
    "# Save the data"
   ],
   "metadata": {
    "collapsed": false
   }
  },
  {
   "cell_type": "code",
   "execution_count": 13,
   "outputs": [],
   "source": [
    "data.to_csv('Amazon_cleaned.csv', index=False)"
   ],
   "metadata": {
    "collapsed": false
   }
  },
  {
   "cell_type": "code",
   "execution_count": 13,
   "outputs": [],
   "source": [],
   "metadata": {
    "collapsed": false
   }
  }
 ],
 "metadata": {
  "kernelspec": {
   "display_name": "Python 3",
   "language": "python",
   "name": "python3"
  },
  "language_info": {
   "codemirror_mode": {
    "name": "ipython",
    "version": 2
   },
   "file_extension": ".py",
   "mimetype": "text/x-python",
   "name": "python",
   "nbconvert_exporter": "python",
   "pygments_lexer": "ipython2",
   "version": "2.7.6"
  }
 },
 "nbformat": 4,
 "nbformat_minor": 0
}

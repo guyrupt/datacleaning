{
 "cells": [
  {
   "cell_type": "code",
   "execution_count": 1,
   "metadata": {
    "collapsed": true
   },
   "outputs": [],
   "source": [
    "import pandas as pd\n",
    "import re"
   ]
  },
  {
   "cell_type": "markdown",
   "source": [
    "# Read the data"
   ],
   "metadata": {
    "collapsed": false
   }
  },
  {
   "cell_type": "code",
   "execution_count": 2,
   "outputs": [
    {
     "data": {
      "text/plain": "Index(['product_id', 'product_name', 'category', 'discounted_price',\n       'actual_price', 'discount_percentage', 'rating', 'rating_count',\n       'about_product', 'user_id', 'user_name', 'review_id', 'review_title',\n       'review_content', 'img_link', 'product_link'],\n      dtype='object')"
     },
     "execution_count": 2,
     "metadata": {},
     "output_type": "execute_result"
    }
   ],
   "source": [
    "data = pd.read_csv('Amazon.csv')\n",
    "data.columns"
   ],
   "metadata": {
    "collapsed": false
   }
  },
  {
   "cell_type": "markdown",
   "source": [
    "# Remove the columns that are not needed"
   ],
   "metadata": {
    "collapsed": false
   }
  },
  {
   "cell_type": "code",
   "execution_count": 3,
   "outputs": [
    {
     "data": {
      "text/plain": "Index(['product_name', 'about_product', 'review_title', 'review_content',\n       'img_link'],\n      dtype='object')"
     },
     "execution_count": 3,
     "metadata": {},
     "output_type": "execute_result"
    }
   ],
   "source": [
    "data = data[['product_name', 'about_product', 'review_title', 'review_content', 'img_link']]\n",
    "data.columns"
   ],
   "metadata": {
    "collapsed": false
   }
  },
  {
   "cell_type": "code",
   "execution_count": 4,
   "outputs": [
    {
     "data": {
      "text/plain": "                                        product_name  \\\n0  D-Link DWA-131 300 Mbps Wireless Nano USB Adap...   \n1  D-Link DWA-131 300 Mbps Wireless Nano USB Adap...   \n2  TP-Link Nano USB WiFi Dongle 150Mbps High Gain...   \n3  Duracell Plus AAA Rechargeable Batteries (750 ...   \n4  Logitech B100 Wired USB Mouse, 3 yr Warranty, ...   \n\n                                       about_product  \\\n0  Connects your computer to a high-speed wireles...   \n1  Connects your computer to a high-speed wireles...   \n2  150 Mbps Wi-Fi —— Exceptional wireless speed u...   \n3  Duracell Rechargeable AAA 750mAh batteries sta...   \n4  A comfortable, ambidextrous shape feels good i...   \n\n                                        review_title  \\\n0  good tool to use for,Brand is always good,Over...   \n1  good tool to use for,Brand is always good,Over...   \n2  Works on linux for me. Get the model with ante...   \n3  Works Good,Perfect replacement cell for trimme...   \n4  Handy Mouse,Good quality mouse,Good one.,Good,...   \n\n                                      review_content  \\\n0  good quality tool from d linkWiFi signal is go...   \n1  good quality tool from d linkWiFi signal is go...   \n2  I use this to connect an old PC to internet. I...   \n3  Works good,Bought it to replace my Phillips QT...   \n4  Liked this Product,https://m.media-amazon.com/...   \n\n                                            img_link  \n0  https://m.media-amazon.com/images/I/31+NwZ8gb1...  \n1  https://m.media-amazon.com/images/W/WEBP_40237...  \n2  https://m.media-amazon.com/images/I/31Wb+A3VVd...  \n3  https://m.media-amazon.com/images/I/418YrbHVLC...  \n4  https://m.media-amazon.com/images/I/31iFF1Kbkp...  ",
      "text/html": "<div>\n<style scoped>\n    .dataframe tbody tr th:only-of-type {\n        vertical-align: middle;\n    }\n\n    .dataframe tbody tr th {\n        vertical-align: top;\n    }\n\n    .dataframe thead th {\n        text-align: right;\n    }\n</style>\n<table border=\"1\" class=\"dataframe\">\n  <thead>\n    <tr style=\"text-align: right;\">\n      <th></th>\n      <th>product_name</th>\n      <th>about_product</th>\n      <th>review_title</th>\n      <th>review_content</th>\n      <th>img_link</th>\n    </tr>\n  </thead>\n  <tbody>\n    <tr>\n      <th>0</th>\n      <td>D-Link DWA-131 300 Mbps Wireless Nano USB Adap...</td>\n      <td>Connects your computer to a high-speed wireles...</td>\n      <td>good tool to use for,Brand is always good,Over...</td>\n      <td>good quality tool from d linkWiFi signal is go...</td>\n      <td>https://m.media-amazon.com/images/I/31+NwZ8gb1...</td>\n    </tr>\n    <tr>\n      <th>1</th>\n      <td>D-Link DWA-131 300 Mbps Wireless Nano USB Adap...</td>\n      <td>Connects your computer to a high-speed wireles...</td>\n      <td>good tool to use for,Brand is always good,Over...</td>\n      <td>good quality tool from d linkWiFi signal is go...</td>\n      <td>https://m.media-amazon.com/images/W/WEBP_40237...</td>\n    </tr>\n    <tr>\n      <th>2</th>\n      <td>TP-Link Nano USB WiFi Dongle 150Mbps High Gain...</td>\n      <td>150 Mbps Wi-Fi —— Exceptional wireless speed u...</td>\n      <td>Works on linux for me. Get the model with ante...</td>\n      <td>I use this to connect an old PC to internet. I...</td>\n      <td>https://m.media-amazon.com/images/I/31Wb+A3VVd...</td>\n    </tr>\n    <tr>\n      <th>3</th>\n      <td>Duracell Plus AAA Rechargeable Batteries (750 ...</td>\n      <td>Duracell Rechargeable AAA 750mAh batteries sta...</td>\n      <td>Works Good,Perfect replacement cell for trimme...</td>\n      <td>Works good,Bought it to replace my Phillips QT...</td>\n      <td>https://m.media-amazon.com/images/I/418YrbHVLC...</td>\n    </tr>\n    <tr>\n      <th>4</th>\n      <td>Logitech B100 Wired USB Mouse, 3 yr Warranty, ...</td>\n      <td>A comfortable, ambidextrous shape feels good i...</td>\n      <td>Handy Mouse,Good quality mouse,Good one.,Good,...</td>\n      <td>Liked this Product,https://m.media-amazon.com/...</td>\n      <td>https://m.media-amazon.com/images/I/31iFF1Kbkp...</td>\n    </tr>\n  </tbody>\n</table>\n</div>"
     },
     "execution_count": 4,
     "metadata": {},
     "output_type": "execute_result"
    }
   ],
   "source": [
    "data.head()"
   ],
   "metadata": {
    "collapsed": false
   }
  },
  {
   "cell_type": "markdown",
   "source": [
    "# Remove the text in brackets in product_name"
   ],
   "metadata": {
    "collapsed": false
   }
  },
  {
   "cell_type": "code",
   "execution_count": 5,
   "outputs": [
    {
     "name": "stderr",
     "output_type": "stream",
     "text": [
      "/var/folders/qz/g26vk35930l0_4xzt0__3smc0000gn/T/ipykernel_14162/176708525.py:1: FutureWarning: The default value of regex will change from True to False in a future version.\n",
      "  data['product_name'] = data['product_name'].str.replace(r\"\\(.*?\\)\", \"\")\n"
     ]
    }
   ],
   "source": [
    "data['product_name'] = data['product_name'].str.replace(r\"\\(.*?\\)\", \"\")"
   ],
   "metadata": {
    "collapsed": false
   }
  },
  {
   "cell_type": "code",
   "execution_count": 6,
   "outputs": [],
   "source": [
    "def clean_text(text):\n",
    "    # Remove URLs\n",
    "    text = re.sub(r'\\bhttp\\S+|\\bwww\\.\\S+', '', text)\n",
    "\n",
    "    # Remove non-English words but keep '.', ',', '!'\n",
    "    text = re.sub('[^a-zA-Z0-9 \\n\\.,!]', '', text)\n",
    "\n",
    "    return text"
   ],
   "metadata": {
    "collapsed": false
   }
  },
  {
   "cell_type": "markdown",
   "source": [
    "# Remove URLs and non-English words"
   ],
   "metadata": {
    "collapsed": false
   }
  },
  {
   "cell_type": "code",
   "execution_count": 7,
   "outputs": [],
   "source": [
    "data['product_name'] = data['product_name'].apply(clean_text)\n",
    "data['review_title'] = data['review_title'].apply(clean_text)\n",
    "data['review_content'] = data['review_content'].apply(clean_text)"
   ],
   "metadata": {
    "collapsed": false
   }
  },
  {
   "cell_type": "markdown",
   "source": [
    "# Download the images"
   ],
   "metadata": {
    "collapsed": false
   }
  },
  {
   "cell_type": "code",
   "execution_count": 8,
   "outputs": [
    {
     "name": "stdout",
     "output_type": "stream",
     "text": [
      "mkdir: image: File exists\r\n"
     ]
    }
   ],
   "source": [
    "!mkdir image"
   ],
   "metadata": {
    "collapsed": false
   }
  },
  {
   "cell_type": "code",
   "execution_count": 9,
   "outputs": [
    {
     "data": {
      "text/plain": "0    https://m.media-amazon.com/images/I/31+NwZ8gb1...\n1    https://m.media-amazon.com/images/W/WEBP_40237...\n2    https://m.media-amazon.com/images/I/31Wb+A3VVd...\n3    https://m.media-amazon.com/images/I/418YrbHVLC...\n4    https://m.media-amazon.com/images/I/31iFF1Kbkp...\nName: img_link, dtype: object"
     },
     "execution_count": 9,
     "metadata": {},
     "output_type": "execute_result"
    }
   ],
   "source": [
    "data['img_link'].head()"
   ],
   "metadata": {
    "collapsed": false
   }
  },
  {
   "cell_type": "code",
   "execution_count": 10,
   "outputs": [],
   "source": [
    "import requests"
   ],
   "metadata": {
    "collapsed": false
   }
  },
  {
   "cell_type": "code",
   "execution_count": 11,
   "outputs": [],
   "source": [
    "def download_image(url, file_name, index):\n",
    "    r = requests.get(url, stream=True)\n",
    "    try:\n",
    "        if r.status_code == 200:\n",
    "            with open(file_name, 'wb') as f:\n",
    "                for chunk in r:\n",
    "                    f.write(chunk)\n",
    "        else:\n",
    "            print('Image couldn\\'t be retrieved for ' + file_name, url)\n",
    "            skipped_index.append(index)\n",
    "    except Exception as e:\n",
    "        print(e)\n",
    "\n"
   ],
   "metadata": {
    "collapsed": false
   }
  },
  {
   "cell_type": "code",
   "execution_count": 12,
   "outputs": [
    {
     "name": "stdout",
     "output_type": "stream",
     "text": [
      "Image couldn't be retrieved for image/10.jpg https://m.media-amazon.com/images/W/WEBP_402378-T2/images/I/313jBpnrJVL._SX300_SY300_QL70_FMwebp_.jpg\n",
      "Image couldn't be retrieved for image/12.jpg https://m.media-amazon.com/images/W/WEBP_402378-T1/images/I/31c6zDmtEnL._SY300_SX300_QL70_FMwebp_.jpg\n",
      "Image couldn't be retrieved for image/13.jpg https://m.media-amazon.com/images/W/WEBP_402378-T1/images/I/31l0oxTSJuL._SX300_SY300_QL70_FMwebp_.jpg\n",
      "Image couldn't be retrieved for image/15.jpg https://m.media-amazon.com/images/W/WEBP_402378-T1/images/I/11ICusapw3L._SY300_SX300_QL70_FMwebp_.jpg\n",
      "Image couldn't be retrieved for image/17.jpg https://m.media-amazon.com/images/W/WEBP_402378-T2/images/I/31e6ElWRymL._SX300_SY300_QL70_FMwebp_.jpg\n",
      "Image couldn't be retrieved for image/18.jpg https://m.media-amazon.com/images/W/WEBP_402378-T1/images/I/41sKyiPWzAL._SX300_SY300_QL70_FMwebp_.jpg\n",
      "Image couldn't be retrieved for image/19.jpg https://m.media-amazon.com/images/W/WEBP_402378-T1/images/I/31M+TYWPdQL._SY300_SX300_.jpg\n",
      "Image couldn't be retrieved for image/20.jpg https://m.media-amazon.com/images/W/WEBP_402378-T1/images/I/316Q0fvU+2L._SY300_SX300_.jpg\n",
      "Image couldn't be retrieved for image/21.jpg https://m.media-amazon.com/images/W/WEBP_402378-T1/images/I/41Xp77o+-YL._SX300_SY300_.jpg\n",
      "Image couldn't be retrieved for image/22.jpg https://m.media-amazon.com/images/W/WEBP_402378-T2/images/I/31R2gaVLwYL._SX300_SY300_QL70_FMwebp_.jpg\n",
      "Image couldn't be retrieved for image/26.jpg https://m.media-amazon.com/images/W/WEBP_402378-T1/images/I/31A-v4dVHmL._SX300_SY300_QL70_FMwebp_.jpg\n",
      "Image couldn't be retrieved for image/29.jpg https://m.media-amazon.com/images/W/WEBP_402378-T1/images/I/41qmt2a159L._SX300_SY300_QL70_FMwebp_.jpg\n",
      "Image couldn't be retrieved for image/30.jpg https://m.media-amazon.com/images/W/WEBP_402378-T1/images/I/31Di52QEVdL._SX300_SY300_QL70_FMwebp_.jpg\n",
      "Image couldn't be retrieved for image/31.jpg https://m.media-amazon.com/images/W/WEBP_402378-T1/images/I/41B-iX4Pf5L._SX300_SY300_QL70_FMwebp_.jpg\n",
      "Image couldn't be retrieved for image/32.jpg https://m.media-amazon.com/images/W/WEBP_402378-T2/images/I/41WyoT08raL._SX300_SY300_QL70_FMwebp_.jpg\n",
      "Image couldn't be retrieved for image/33.jpg https://images-na.ssl-images-amazon.com/images/W/WEBP_402378-T1/images/I/41EK0QNFSUL._SX300_SY300_QL70_FMwebp_.jpg\n",
      "Image couldn't be retrieved for image/35.jpg https://m.media-amazon.com/images/W/WEBP_402378-T1/images/I/21n1BGPOHBL._SX300_SY300_QL70_FMwebp_.jpg\n",
      "Image couldn't be retrieved for image/36.jpg https://m.media-amazon.com/images/W/WEBP_402378-T2/images/I/419H62Is66L._SX300_SY300_QL70_FMwebp_.jpg\n",
      "Image couldn't be retrieved for image/43.jpg https://m.media-amazon.com/images/W/WEBP_402378-T2/images/I/412fxJY-gxL._SX300_SY300_QL70_FMwebp_.jpg\n",
      "Image couldn't be retrieved for image/44.jpg https://m.media-amazon.com/images/W/WEBP_402378-T2/images/I/41X6hey-ExL._SX300_SY300_QL70_FMwebp_.jpg\n",
      "Image couldn't be retrieved for image/51.jpg https://m.media-amazon.com/images/W/WEBP_402378-T2/images/I/31RK9+CyhoL._SY300_SX300_.jpg\n",
      "Image couldn't be retrieved for image/53.jpg https://m.media-amazon.com/images/W/WEBP_402378-T2/images/I/41oK+rXtssS._SY300_SX300_.jpg\n",
      "Image couldn't be retrieved for image/54.jpg https://m.media-amazon.com/images/W/WEBP_402378-T1/images/I/41Wb7LHAeLL._SY300_SX300_QL70_FMwebp_.jpg\n",
      "Image couldn't be retrieved for image/55.jpg https://m.media-amazon.com/images/W/WEBP_402378-T1/images/I/41lsUHKNfSL._SY300_SX300_QL70_FMwebp_.jpg\n",
      "Image couldn't be retrieved for image/56.jpg https://m.media-amazon.com/images/W/WEBP_402378-T2/images/I/31AQqe9fbJL._SX300_SY300_QL70_FMwebp_.jpg\n",
      "Image couldn't be retrieved for image/60.jpg https://m.media-amazon.com/images/W/WEBP_402378-T1/images/I/31rucE-db2L._SX300_SY300_QL70_FMwebp_.jpg\n",
      "Image couldn't be retrieved for image/61.jpg https://m.media-amazon.com/images/W/WEBP_402378-T1/images/I/41ORNeJrRxL._SX300_SY300_QL70_FMwebp_.jpg\n",
      "Image couldn't be retrieved for image/63.jpg https://m.media-amazon.com/images/W/WEBP_402378-T1/images/I/51pNg1Zy4+L._SX300_SY300_.jpg\n",
      "Image couldn't be retrieved for image/72.jpg https://m.media-amazon.com/images/W/WEBP_402378-T1/images/I/51mCZQzY6SL._SX300_SY300_QL70_FMwebp_.jpg\n",
      "Image couldn't be retrieved for image/74.jpg https://m.media-amazon.com/images/W/WEBP_402378-T1/images/I/4127NZ2xG6L._SX300_SY300_QL70_FMwebp_.jpg\n",
      "Image couldn't be retrieved for image/79.jpg https://m.media-amazon.com/images/W/WEBP_402378-T1/images/I/5145vqMSaTL._SY300_SX300_QL70_FMwebp_.jpg\n",
      "Image couldn't be retrieved for image/80.jpg https://m.media-amazon.com/images/W/WEBP_402378-T1/images/I/4136eo-yWlL._SX300_SY300_QL70_FMwebp_.jpg\n",
      "Image couldn't be retrieved for image/86.jpg https://m.media-amazon.com/images/W/WEBP_402378-T2/images/I/41zNLdERuiL._SX300_SY300_QL70_FMwebp_.jpg\n",
      "Image couldn't be retrieved for image/91.jpg https://m.media-amazon.com/images/W/WEBP_402378-T1/images/I/31Dj+5AQcJL._SY300_SX300_.jpg\n",
      "Image couldn't be retrieved for image/92.jpg https://m.media-amazon.com/images/W/WEBP_402378-T1/images/I/31nlfClYn7L._SX300_SY300_QL70_FMwebp_.jpg\n",
      "Image couldn't be retrieved for image/96.jpg https://m.media-amazon.com/images/W/WEBP_402378-T1/images/I/41Fqm0bR7PL._SX300_SY300_QL70_FMwebp_.jpg\n",
      "Image couldn't be retrieved for image/102.jpg https://m.media-amazon.com/images/W/WEBP_402378-T1/images/I/41DwZuxPCaL._SY300_SX300_QL70_FMwebp_.jpg\n",
      "Image couldn't be retrieved for image/103.jpg https://m.media-amazon.com/images/W/WEBP_402378-T2/images/I/21c-ZYPFJ5L._SX300_SY300_QL70_FMwebp_.jpg\n",
      "Image couldn't be retrieved for image/104.jpg https://m.media-amazon.com/images/W/WEBP_402378-T2/images/I/51R1cOolXRL._SX300_SY300_QL70_FMwebp_.jpg\n",
      "Image couldn't be retrieved for image/109.jpg https://m.media-amazon.com/images/W/WEBP_402378-T1/images/I/31hwosM2Q1L._SX300_SY300_QL70_FMwebp_.jpg\n",
      "Image couldn't be retrieved for image/114.jpg https://m.media-amazon.com/images/W/WEBP_402378-T2/images/I/31-jt474B1L._SX300_SY300_QL70_FMwebp_.jpg\n",
      "Image couldn't be retrieved for image/116.jpg https://m.media-amazon.com/images/W/WEBP_402378-T2/images/I/41emm+fTJmL._SX300_SY300_.jpg\n",
      "Image couldn't be retrieved for image/117.jpg https://m.media-amazon.com/images/W/WEBP_402378-T2/images/I/41+82+4rUCL._SX300_SY300_.jpg\n",
      "Image couldn't be retrieved for image/120.jpg https://m.media-amazon.com/images/W/WEBP_402378-T1/images/I/41oLhpKArFL._SY300_SX300_QL70_FMwebp_.jpg\n",
      "Image couldn't be retrieved for image/122.jpg https://m.media-amazon.com/images/W/WEBP_402378-T1/images/I/219039qa+PL._SY300_SX300_.jpg\n",
      "Image couldn't be retrieved for image/126.jpg https://m.media-amazon.com/images/W/WEBP_402378-T1/images/I/31puHGasbOL._SX300_SY300_QL70_FMwebp_.jpg\n",
      "Image couldn't be retrieved for image/128.jpg https://m.media-amazon.com/images/W/WEBP_402378-T1/images/I/31MVkjIpLiL._SX300_SY300_QL70_FMwebp_.jpg\n",
      "Image couldn't be retrieved for image/129.jpg https://m.media-amazon.com/images/W/WEBP_402378-T2/images/I/517nCRsjYeL._SX300_SY300_QL70_FMwebp_.jpg\n",
      "Image couldn't be retrieved for image/130.jpg https://m.media-amazon.com/images/W/WEBP_402378-T1/images/I/4178Hx01kZL._SY300_SX300_QL70_FMwebp_.jpg\n",
      "Image couldn't be retrieved for image/133.jpg https://m.media-amazon.com/images/W/WEBP_402378-T1/images/I/51mvimcd7EL._SY445_SX342_QL70_FMwebp_.jpg\n",
      "Image couldn't be retrieved for image/135.jpg https://m.media-amazon.com/images/W/WEBP_402378-T2/images/I/31SAqKSRWyL._SX300_SY300_QL70_FMwebp_.jpg\n",
      "Image couldn't be retrieved for image/136.jpg https://m.media-amazon.com/images/W/WEBP_402378-T1/images/I/410d2Vda6QS._SY300_SX300_QL70_FMwebp_.jpg\n",
      "Image couldn't be retrieved for image/138.jpg https://m.media-amazon.com/images/W/WEBP_402378-T2/images/I/31mgo4D-kPL._SX300_SY300_QL70_FMwebp_.jpg\n",
      "Image couldn't be retrieved for image/139.jpg https://m.media-amazon.com/images/W/WEBP_402378-T1/images/I/51J2Wk-+c+L._SY300_SX300_.jpg\n",
      "Image couldn't be retrieved for image/144.jpg https://m.media-amazon.com/images/W/WEBP_402378-T2/images/I/415nVOD7bWL._SX300_SY300_QL70_FMwebp_.jpg\n",
      "Image couldn't be retrieved for image/153.jpg https://m.media-amazon.com/images/W/WEBP_402378-T1/images/I/318egjvJ0mL._SX300_SY300_QL70_FMwebp_.jpg\n",
      "Image couldn't be retrieved for image/154.jpg https://m.media-amazon.com/images/W/WEBP_402378-T1/images/I/41wL36XZGXL._SX300_SY300_QL70_FMwebp_.jpg\n",
      "Image couldn't be retrieved for image/156.jpg https://m.media-amazon.com/images/W/WEBP_402378-T1/images/I/41JrUgIbYOL._SX300_SY300_QL70_FMwebp_.jpg\n",
      "Image couldn't be retrieved for image/166.jpg https://m.media-amazon.com/images/W/WEBP_402378-T2/images/I/31NnmYempPL._SX300_SY300_QL70_FMwebp_.jpg\n",
      "Image couldn't be retrieved for image/177.jpg https://m.media-amazon.com/images/W/WEBP_402378-T2/images/I/41zejggGzLL._SX300_SY300_QL70_FMwebp_.jpg\n",
      "Image couldn't be retrieved for image/178.jpg https://m.media-amazon.com/images/W/WEBP_402378-T1/images/I/411pUp4t0OL._SX300_SY300_QL70_FMwebp_.jpg\n",
      "Image couldn't be retrieved for image/182.jpg https://m.media-amazon.com/images/W/WEBP_402378-T2/images/I/414y0iu5NUL._SX300_SY300_QL70_FMwebp_.jpg\n",
      "Image couldn't be retrieved for image/186.jpg https://m.media-amazon.com/images/W/WEBP_402378-T1/images/I/314QZXF1dHL._SY300_SX300_QL70_FMwebp_.jpg\n",
      "Image couldn't be retrieved for image/189.jpg https://m.media-amazon.com/images/W/WEBP_402378-T2/images/I/51LuP5KXg5L._SX300_SY300_QL70_FMwebp_.jpg\n",
      "Image couldn't be retrieved for image/191.jpg https://m.media-amazon.com/images/W/WEBP_402378-T2/images/I/31y-oJ1XnqL._SX300_SY300_QL70_FMwebp_.jpg\n",
      "Image couldn't be retrieved for image/192.jpg https://m.media-amazon.com/images/W/WEBP_402378-T1/images/I/41NYfAbBY2L._SX300_SY300_QL70_FMwebp_.jpg\n",
      "Image couldn't be retrieved for image/193.jpg https://m.media-amazon.com/images/W/WEBP_402378-T2/images/I/41AcG6PavXL._SX300_SY300_QL70_FMwebp_.jpg\n",
      "Image couldn't be retrieved for image/196.jpg https://m.media-amazon.com/images/W/WEBP_402378-T1/images/I/31R5FtHMDiL._SY300_SX300_QL70_FMwebp_.jpg\n",
      "Image couldn't be retrieved for image/197.jpg https://m.media-amazon.com/images/W/WEBP_402378-T1/images/I/41YlkgRwHVL._SX300_SY300_QL70_FMwebp_.jpg\n",
      "Image couldn't be retrieved for image/198.jpg https://m.media-amazon.com/images/W/WEBP_402378-T2/images/I/31RpzeqSq3L._SX300_SY300_QL70_FMwebp_.jpg\n",
      "Image couldn't be retrieved for image/200.jpg https://m.media-amazon.com/images/W/WEBP_402378-T1/images/I/31bCliyezAL._SX300_SY300_QL70_FMwebp_.jpg\n",
      "Image couldn't be retrieved for image/206.jpg https://m.media-amazon.com/images/W/WEBP_402378-T2/images/I/41nYaR0z9fL._SX300_SY300_QL70_FMwebp_.jpg\n",
      "Image couldn't be retrieved for image/211.jpg https://m.media-amazon.com/images/W/WEBP_402378-T1/images/I/31HzCDKv6ZL._SX300_SY300_QL70_FMwebp_.jpg\n",
      "Image couldn't be retrieved for image/219.jpg https://m.media-amazon.com/images/W/WEBP_402378-T1/images/I/315uFBgWK3L._SX300_SY300_QL70_FMwebp_.jpg\n",
      "Image couldn't be retrieved for image/220.jpg https://m.media-amazon.com/images/W/WEBP_402378-T1/images/I/31VoHcKK5ZL._SX300_SY300_QL70_FMwebp_.jpg\n",
      "Image couldn't be retrieved for image/227.jpg https://m.media-amazon.com/images/W/WEBP_402378-T1/images/I/51MWh9t3Z2L._SX300_SY300_QL70_FMwebp_.jpg\n",
      "Image couldn't be retrieved for image/232.jpg https://m.media-amazon.com/images/W/WEBP_402378-T1/images/I/31Sgt4ZRNXL._SX300_SY300_QL70_FMwebp_.jpg\n",
      "Image couldn't be retrieved for image/233.jpg https://m.media-amazon.com/images/W/WEBP_402378-T1/images/I/417qayz2nNL._SX300_SY300_QL70_FMwebp_.jpg\n",
      "Image couldn't be retrieved for image/236.jpg https://m.media-amazon.com/images/W/WEBP_402378-T1/images/I/413KQ6Ch61L._SX300_SY300_QL70_FMwebp_.jpg\n",
      "Image couldn't be retrieved for image/242.jpg https://m.media-amazon.com/images/W/WEBP_402378-T1/images/I/31CLpobJstL._SY300_SX300_QL70_FMwebp_.jpg\n",
      "Image couldn't be retrieved for image/245.jpg https://m.media-amazon.com/images/W/WEBP_402378-T1/images/I/31nrDWDT8+L._SX300_SY300_.jpg\n",
      "Image couldn't be retrieved for image/246.jpg https://m.media-amazon.com/images/W/WEBP_402378-T1/images/I/31nrDWDT8+L._SX300_SY300_.jpg\n",
      "Image couldn't be retrieved for image/248.jpg https://m.media-amazon.com/images/W/WEBP_402378-T1/images/I/41tcKYuBPSL._SX300_SY300_QL70_FMwebp_.jpg\n",
      "Image couldn't be retrieved for image/251.jpg https://m.media-amazon.com/images/W/WEBP_402378-T1/images/I/41Uk8sX-WkL._SX300_SY300_QL70_FMwebp_.jpg\n",
      "Image couldn't be retrieved for image/252.jpg https://m.media-amazon.com/images/W/WEBP_402378-T2/images/I/41QEK7WRJbL._SX300_SY300_QL70_FMwebp_.jpg\n",
      "Image couldn't be retrieved for image/255.jpg https://m.media-amazon.com/images/W/WEBP_402378-T1/images/I/41n2MqMIH5L._SX300_SY300_QL70_FMwebp_.jpg\n",
      "Image couldn't be retrieved for image/256.jpg https://m.media-amazon.com/images/W/WEBP_402378-T1/images/I/41v0JSmcIuL._SY300_SX300_QL70_FMwebp_.jpg\n",
      "Image couldn't be retrieved for image/259.jpg https://m.media-amazon.com/images/W/WEBP_402378-T1/images/I/41c7bJo7ooL._SX300_SY300_QL70_FMwebp_.jpg\n",
      "Image couldn't be retrieved for image/260.jpg https://m.media-amazon.com/images/W/WEBP_402378-T1/images/I/41N+hHYrIWL._SY300_SX300_.jpg\n",
      "Image couldn't be retrieved for image/270.jpg https://m.media-amazon.com/images/W/WEBP_402378-T2/images/I/310sR2giQrL._SX300_SY300_QL70_FMwebp_.jpg\n",
      "Image couldn't be retrieved for image/271.jpg https://m.media-amazon.com/images/W/WEBP_402378-T1/images/I/21vWJo4CXKL._SX300_SY300_QL70_FMwebp_.jpg\n",
      "Image couldn't be retrieved for image/281.jpg https://m.media-amazon.com/images/W/WEBP_402378-T2/images/I/411UTnBl2TL._SX300_SY300_QL70_FMwebp_.jpg\n",
      "Image couldn't be retrieved for image/284.jpg https://m.media-amazon.com/images/W/WEBP_402378-T2/images/I/31991seDfcL._SY300_SX300_QL70_FMwebp_.jpg\n",
      "Image couldn't be retrieved for image/288.jpg https://m.media-amazon.com/images/W/WEBP_402378-T1/images/I/41ZeJ53ij3L._SX300_SY300_QL70_FMwebp_.jpg\n",
      "Image couldn't be retrieved for image/289.jpg https://m.media-amazon.com/images/W/WEBP_402378-T1/images/I/31gRT7Gvw7L._SY300_SX300_QL70_FMwebp_.jpg\n",
      "Image couldn't be retrieved for image/294.jpg https://m.media-amazon.com/images/W/WEBP_402378-T1/images/I/41lS2bd15fL._SX300_SY300_QL70_FMwebp_.jpg\n",
      "Image couldn't be retrieved for image/295.jpg https://m.media-amazon.com/images/W/WEBP_402378-T1/images/I/41Gt21tmhTL._SX300_SY300_QL70_FMwebp_.jpg\n",
      "Image couldn't be retrieved for image/297.jpg https://m.media-amazon.com/images/W/WEBP_402378-T2/images/I/41v00lhhdbL._SX300_SY300_QL70_FMwebp_.jpg\n",
      "Image couldn't be retrieved for image/308.jpg https://m.media-amazon.com/images/W/WEBP_402378-T1/images/I/41pb+fODkVL._SX300_SY300_.jpg\n",
      "Image couldn't be retrieved for image/309.jpg https://m.media-amazon.com/images/W/WEBP_402378-T2/images/I/31VSKlEpP-L._SX300_SY300_QL70_FMwebp_.jpg\n",
      "Image couldn't be retrieved for image/312.jpg https://m.media-amazon.com/images/W/WEBP_402378-T2/images/I/312ne4gFX+L._SY300_SX300_.jpg\n",
      "Image couldn't be retrieved for image/316.jpg https://m.media-amazon.com/images/W/WEBP_402378-T2/images/I/41UJEnTJpVL._SX300_SY300_QL70_FMwebp_.jpg\n",
      "Image couldn't be retrieved for image/320.jpg https://m.media-amazon.com/images/W/WEBP_402378-T1/images/I/41DXzzwydTL._SX300_SY300_QL70_FMwebp_.jpg\n",
      "Image couldn't be retrieved for image/322.jpg https://m.media-amazon.com/images/W/WEBP_402378-T2/images/I/41RI-hzCnvL._SY300_SX300_QL70_FMwebp_.jpg\n",
      "Image couldn't be retrieved for image/323.jpg https://m.media-amazon.com/images/W/WEBP_402378-T2/images/I/51M0UevRosL._SY300_SX300_QL70_FMwebp_.jpg\n",
      "Image couldn't be retrieved for image/324.jpg https://m.media-amazon.com/images/W/WEBP_402378-T2/images/I/31B7DwG79FL._SY445_SX342_QL70_FMwebp_.jpg\n",
      "Image couldn't be retrieved for image/327.jpg https://m.media-amazon.com/images/W/WEBP_402378-T1/images/I/41A6EmdtN8L._SY300_SX300_QL70_FMwebp_.jpg\n",
      "Image couldn't be retrieved for image/329.jpg https://m.media-amazon.com/images/W/WEBP_402378-T1/images/I/413ZmbHlAKL._SX300_SY300_QL70_FMwebp_.jpg\n",
      "Image couldn't be retrieved for image/336.jpg https://m.media-amazon.com/images/W/WEBP_402378-T1/images/I/41J6oGU8w5L._SX300_SY300_QL70_FMwebp_.jpg\n",
      "Image couldn't be retrieved for image/339.jpg https://m.media-amazon.com/images/W/WEBP_402378-T2/images/I/41mtYvY3VdS._SX300_SY300_QL70_FMwebp_.jpg\n",
      "Image couldn't be retrieved for image/344.jpg https://m.media-amazon.com/images/W/WEBP_402378-T2/images/I/31-RWRwJZOL._SX300_SY300_QL70_FMwebp_.jpg\n",
      "Image couldn't be retrieved for image/346.jpg https://m.media-amazon.com/images/W/WEBP_402378-T2/images/I/41KYzWomjVL._SX300_SY300_QL70_FMwebp_.jpg\n",
      "Image couldn't be retrieved for image/349.jpg https://m.media-amazon.com/images/W/WEBP_402378-T1/images/I/51Ule90yh0L._SX300_SY300_QL70_FMwebp_.jpg\n",
      "Image couldn't be retrieved for image/350.jpg https://m.media-amazon.com/images/W/WEBP_402378-T2/images/I/31C+JNS-7PL._SY300_SX300_.jpg\n",
      "Image couldn't be retrieved for image/352.jpg https://m.media-amazon.com/images/W/WEBP_402378-T2/images/I/51zIKeCjN-L._SX300_SY300_QL70_FMwebp_.jpg\n",
      "Image couldn't be retrieved for image/353.jpg https://m.media-amazon.com/images/W/WEBP_402378-T1/images/I/413viCgpI+L._SY300_SX300_.jpg\n",
      "Image couldn't be retrieved for image/354.jpg https://m.media-amazon.com/images/W/WEBP_402378-T2/images/I/31RWtNDo6EL._SX300_SY300_QL70_FMwebp_.jpg\n",
      "Image couldn't be retrieved for image/359.jpg https://m.media-amazon.com/images/W/WEBP_402378-T2/images/I/41c80KrMZgL._SY445_SX342_QL70_FMwebp_.jpg\n",
      "Image couldn't be retrieved for image/363.jpg https://m.media-amazon.com/images/W/WEBP_402378-T1/images/I/41rB0DnVFmL._SX300_SY300_QL70_FMwebp_.jpg\n",
      "Image couldn't be retrieved for image/367.jpg https://m.media-amazon.com/images/W/WEBP_402378-T1/images/I/51IMz58igdL._SX300_SY300_QL70_FMwebp_.jpg\n",
      "Image couldn't be retrieved for image/368.jpg https://m.media-amazon.com/images/W/WEBP_402378-T1/images/I/41UHdKluMBL._SY300_SX300_QL70_FMwebp_.jpg\n",
      "Image couldn't be retrieved for image/369.jpg https://m.media-amazon.com/images/W/WEBP_402378-T2/images/I/31pzC6I+bEL._SY300_SX300_.jpg\n",
      "Image couldn't be retrieved for image/381.jpg https://m.media-amazon.com/images/W/WEBP_402378-T2/images/I/51X7oG9862L._SX300_SY300_QL70_FMwebp_.jpg\n",
      "Image couldn't be retrieved for image/385.jpg https://m.media-amazon.com/images/W/WEBP_402378-T2/images/I/41lYqkaeadL._SX300_SY300_QL70_FMwebp_.jpg\n",
      "Image couldn't be retrieved for image/386.jpg https://m.media-amazon.com/images/W/WEBP_402378-T1/images/I/41JWKjRa+PL._SX300_SY300_.jpg\n",
      "Image couldn't be retrieved for image/387.jpg https://m.media-amazon.com/images/W/WEBP_402378-T1/images/I/31-wcLwDaBL._SX300_SY300_QL70_FMwebp_.jpg\n",
      "Image couldn't be retrieved for image/388.jpg https://m.media-amazon.com/images/W/WEBP_402378-T2/images/I/51rzz4zoUBL._SX300_SY300_QL70_FMwebp_.jpg\n",
      "Image couldn't be retrieved for image/390.jpg https://m.media-amazon.com/images/W/WEBP_402378-T1/images/I/41d2SJq5sxL._SX300_SY300_QL70_FMwebp_.jpg\n",
      "Image couldn't be retrieved for image/391.jpg https://m.media-amazon.com/images/W/WEBP_402378-T2/images/I/41xmv3WPs7L._SX300_SY300_QL70_FMwebp_.jpg\n",
      "Image couldn't be retrieved for image/392.jpg https://m.media-amazon.com/images/W/WEBP_402378-T1/images/I/31IdziegWVL._SX300_SY300_QL70_FMwebp_.jpg\n",
      "Image couldn't be retrieved for image/393.jpg https://m.media-amazon.com/images/W/WEBP_402378-T2/images/I/41UPNmnPgeL._SY300_SX300_QL70_FMwebp_.jpg\n",
      "Image couldn't be retrieved for image/395.jpg https://m.media-amazon.com/images/W/WEBP_402378-T1/images/I/51bVSwhFA1L._SY300_SX300_QL70_FMwebp_.jpg\n",
      "Image couldn't be retrieved for image/396.jpg https://m.media-amazon.com/images/W/WEBP_402378-T2/images/I/31MNWLE6vuL._SY300_SX300_QL70_FMwebp_.jpg\n",
      "Image couldn't be retrieved for image/397.jpg https://m.media-amazon.com/images/W/WEBP_402378-T1/images/I/51X5mRykgbL._SX300_SY300_QL70_FMwebp_.jpg\n",
      "Image couldn't be retrieved for image/405.jpg https://m.media-amazon.com/images/W/WEBP_402378-T2/images/I/31SFYZqCSeL._SX300_SY300_QL70_FMwebp_.jpg\n",
      "Image couldn't be retrieved for image/406.jpg https://m.media-amazon.com/images/W/WEBP_402378-T2/images/I/51cqrmW48+L._SY300_SX300_.jpg\n",
      "Image couldn't be retrieved for image/411.jpg https://m.media-amazon.com/images/W/WEBP_402378-T2/images/I/41rDN2Ylj1L._SX300_SY300_QL70_FMwebp_.jpg\n",
      "Image couldn't be retrieved for image/415.jpg https://m.media-amazon.com/images/W/WEBP_402378-T2/images/I/41iZgQu0WLL._SY300_SX300_QL70_FMwebp_.jpg\n",
      "Image couldn't be retrieved for image/419.jpg https://m.media-amazon.com/images/W/WEBP_402378-T1/images/I/317ws2QblnL._SX300_SY300_QL70_FMwebp_.jpg\n",
      "Image couldn't be retrieved for image/425.jpg https://m.media-amazon.com/images/W/WEBP_402378-T2/images/I/41--5lc96UL._SX300_SY300_QL70_FMwebp_.jpg\n",
      "Image couldn't be retrieved for image/432.jpg https://m.media-amazon.com/images/W/WEBP_402378-T1/images/I/31I1oK5hM1L._SY300_SX300_QL70_FMwebp_.jpg\n",
      "Image couldn't be retrieved for image/438.jpg https://m.media-amazon.com/images/W/WEBP_402378-T1/images/I/414PLTPvJBL._SX300_SY300_QL70_FMwebp_.jpg\n",
      "Image couldn't be retrieved for image/440.jpg https://m.media-amazon.com/images/W/WEBP_402378-T1/images/I/41IymCXFA7L._SX300_SY300_QL70_FMwebp_.jpg\n",
      "Image couldn't be retrieved for image/442.jpg https://m.media-amazon.com/images/W/WEBP_402378-T1/images/I/41VOCgvMKJL._SX300_SY300_QL70_FMwebp_.jpg\n",
      "Image couldn't be retrieved for image/443.jpg https://m.media-amazon.com/images/W/WEBP_402378-T1/images/I/415pqPUbDVL._SX300_SY300_QL70_FMwebp_.jpg\n",
      "Image couldn't be retrieved for image/444.jpg https://m.media-amazon.com/images/W/WEBP_402378-T2/images/I/31DYx7AhW6L._SX300_SY300_QL70_FMwebp_.jpg\n",
      "Image couldn't be retrieved for image/455.jpg https://m.media-amazon.com/images/W/WEBP_402378-T1/images/I/41JCf4kTKgL._SX300_SY300_QL70_FMwebp_.jpg\n",
      "Image couldn't be retrieved for image/456.jpg https://m.media-amazon.com/images/W/WEBP_402378-T1/images/I/31p014p14mL._SX342_SY445_QL70_FMwebp_.jpg\n",
      "Image couldn't be retrieved for image/457.jpg https://m.media-amazon.com/images/W/WEBP_402378-T2/images/I/31fpyR3mU4L._SX300_SY300_QL70_FMwebp_.jpg\n",
      "Image couldn't be retrieved for image/458.jpg https://m.media-amazon.com/images/W/WEBP_402378-T1/images/I/31iDEczWTWL._SX300_SY300_QL70_FMwebp_.jpg\n",
      "Image couldn't be retrieved for image/459.jpg https://m.media-amazon.com/images/W/WEBP_402378-T2/images/I/41rm-mc937L._SX300_SY300_QL70_FMwebp_.jpg\n",
      "Image couldn't be retrieved for image/467.jpg https://m.media-amazon.com/images/W/WEBP_402378-T1/images/I/51UH57Cs5hL._SX300_SY300_QL70_FMwebp_.jpg\n",
      "Image couldn't be retrieved for image/475.jpg https://m.media-amazon.com/images/W/WEBP_402378-T2/images/I/41LZP1CmYRL._SX300_SY300_QL70_FMwebp_.jpg\n",
      "Image couldn't be retrieved for image/477.jpg https://m.media-amazon.com/images/W/WEBP_402378-T1/images/I/31TLru4LT8L._SX300_SY300_QL70_FMwebp_.jpg\n",
      "Image couldn't be retrieved for image/489.jpg https://m.media-amazon.com/images/W/WEBP_402378-T1/images/I/31na34LxwmL._SX300_SY300_QL70_FMwebp_.jpg\n",
      "Image couldn't be retrieved for image/496.jpg https://m.media-amazon.com/images/W/WEBP_402378-T2/images/I/41CnR1WhD3L._SX300_SY300_QL70_FMwebp_.jpg\n",
      "Image couldn't be retrieved for image/497.jpg https://m.media-amazon.com/images/W/WEBP_402378-T2/images/I/41CnR1WhD3L._SX300_SY300_QL70_FMwebp_.jpg\n",
      "Image couldn't be retrieved for image/500.jpg https://m.media-amazon.com/images/W/WEBP_402378-T2/images/I/3183iGEWksL._SX300_SY300_QL70_FMwebp_.jpg\n",
      "Image couldn't be retrieved for image/502.jpg https://m.media-amazon.com/images/W/WEBP_402378-T2/images/I/31C71rcp+1L._SY300_SX300_.jpg\n",
      "Image couldn't be retrieved for image/503.jpg https://m.media-amazon.com/images/W/WEBP_402378-T1/images/I/41XtCfScreS._SX300_SY300_QL70_FMwebp_.jpg\n",
      "Image couldn't be retrieved for image/509.jpg https://m.media-amazon.com/images/W/WEBP_402378-T2/images/I/31tpRKyv0yL._SY300_SX300_QL70_FMwebp_.jpg\n",
      "Image couldn't be retrieved for image/511.jpg https://m.media-amazon.com/images/W/WEBP_402378-T1/images/I/318oSoMwjsL._SX300_SY300_QL70_FMwebp_.jpg\n",
      "Image couldn't be retrieved for image/516.jpg https://m.media-amazon.com/images/W/WEBP_402378-T2/images/I/41UD9vNsIjS._SX300_SY300_QL70_FMwebp_.jpg\n",
      "Image couldn't be retrieved for image/520.jpg https://m.media-amazon.com/images/W/WEBP_402378-T1/images/I/31A6Arm+F7L._SY300_SX300_.jpg\n",
      "Image couldn't be retrieved for image/522.jpg https://m.media-amazon.com/images/W/WEBP_402378-T1/images/I/41jJqhC9nfL._SX300_SY300_QL70_FMwebp_.jpg\n",
      "Image couldn't be retrieved for image/523.jpg https://m.media-amazon.com/images/W/WEBP_402378-T1/images/I/31bMTTJF1xL._SY300_SX300_QL70_FMwebp_.jpg\n",
      "Image couldn't be retrieved for image/525.jpg https://m.media-amazon.com/images/W/WEBP_402378-T2/images/I/31VtFl2O33L._SX300_SY300_QL70_FMwebp_.jpg\n",
      "Image couldn't be retrieved for image/526.jpg https://m.media-amazon.com/images/W/WEBP_402378-T2/images/I/41qMoS4lfRL._SX300_SY300_QL70_FMwebp_.jpg\n",
      "Image couldn't be retrieved for image/527.jpg https://m.media-amazon.com/images/W/WEBP_402378-T2/images/I/41Mktp5hVIL._SX300_SY300_QL70_FMwebp_.jpg\n",
      "Image couldn't be retrieved for image/532.jpg https://m.media-amazon.com/images/W/WEBP_402378-T1/images/I/410l0pKc2OL._SX300_SY300_QL70_FMwebp_.jpg\n",
      "Image couldn't be retrieved for image/537.jpg https://m.media-amazon.com/images/W/WEBP_402378-T1/images/I/31QVpoSYsrL._SX300_SY300_QL70_FMwebp_.jpg\n",
      "Image couldn't be retrieved for image/539.jpg https://m.media-amazon.com/images/W/WEBP_402378-T2/images/I/41cAIdLrGPL._SX300_SY300_QL70_FMwebp_.jpg\n",
      "Image couldn't be retrieved for image/540.jpg https://m.media-amazon.com/images/W/WEBP_402378-T1/images/I/516xGB5Bt+L._SY300_SX300_.jpg\n",
      "Image couldn't be retrieved for image/541.jpg https://m.media-amazon.com/images/W/WEBP_402378-T2/images/I/31lKVhGarbL._SX300_SY300_QL70_FMwebp_.jpg\n",
      "Image couldn't be retrieved for image/544.jpg https://m.media-amazon.com/images/W/WEBP_402378-T2/images/I/31kj3q4SepL._SY445_SX342_QL70_FMwebp_.jpg\n",
      "Image couldn't be retrieved for image/553.jpg https://m.media-amazon.com/images/W/WEBP_402378-T2/images/I/41xXipZ7vjL._SX300_SY300_QL70_FMwebp_.jpg\n",
      "Image couldn't be retrieved for image/557.jpg https://m.media-amazon.com/images/W/WEBP_402378-T2/images/I/41AQNOLe6GL._SX300_SY300_QL70_FMwebp_.jpg\n",
      "Image couldn't be retrieved for image/566.jpg https://m.media-amazon.com/images/W/WEBP_402378-T2/images/I/31VnhITYb+L._SY300_SX300_.jpg\n",
      "Image couldn't be retrieved for image/571.jpg https://m.media-amazon.com/images/W/WEBP_402378-T1/images/I/51xmNdrIlcS._SY300_SX300_QL70_FMwebp_.jpg\n",
      "Image couldn't be retrieved for image/582.jpg https://m.media-amazon.com/images/W/WEBP_402378-T2/images/I/31vIaLbBXmL._SY445_SX342_QL70_FMwebp_.jpg\n",
      "Image couldn't be retrieved for image/583.jpg https://m.media-amazon.com/images/W/WEBP_402378-T2/images/I/41IZ3JvOvwL._SX300_SY300_QL70_FMwebp_.jpg\n",
      "Image couldn't be retrieved for image/588.jpg https://m.media-amazon.com/images/W/WEBP_402378-T1/images/I/21jLkYGoSEL._SX300_SY300_QL70_FMwebp_.jpg\n",
      "Image couldn't be retrieved for image/598.jpg https://m.media-amazon.com/images/W/WEBP_402378-T2/images/I/411ZrOollDL._SX300_SY300_QL70_FMwebp_.jpg\n",
      "Image couldn't be retrieved for image/601.jpg https://m.media-amazon.com/images/W/WEBP_402378-T1/images/I/41BDLm8-jLL._SX300_SY300_QL70_FMwebp_.jpg\n",
      "Image couldn't be retrieved for image/604.jpg https://m.media-amazon.com/images/W/WEBP_402378-T1/images/I/417iICYt3IL._SX300_SY300_QL70_FMwebp_.jpg\n",
      "Image couldn't be retrieved for image/608.jpg https://m.media-amazon.com/images/W/WEBP_402378-T2/images/I/31WXnM9XIYL._SX300_SY300_QL70_FMwebp_.jpg\n",
      "Image couldn't be retrieved for image/612.jpg https://m.media-amazon.com/images/W/WEBP_402378-T1/images/I/51DhRNtyo0L._SX300_SY300_QL70_FMwebp_.jpg\n",
      "Image couldn't be retrieved for image/615.jpg https://m.media-amazon.com/images/W/WEBP_402378-T1/images/I/51rf2161JNL._SX300_SY300_QL70_FMwebp_.jpg\n",
      "Image couldn't be retrieved for image/617.jpg https://m.media-amazon.com/images/W/WEBP_402378-T2/images/I/41WE9ZGEC4L._SX300_SY300_QL70_FMwebp_.jpg\n",
      "Image couldn't be retrieved for image/618.jpg https://m.media-amazon.com/images/W/WEBP_402378-T1/images/I/31Vt3iyEaIL._SX300_SY300_QL70_FMwebp_.jpg\n",
      "Image couldn't be retrieved for image/620.jpg https://m.media-amazon.com/images/W/WEBP_402378-T1/images/I/41jmiwgyu8L._SX300_SY300_QL70_FMwebp_.jpg\n",
      "Image couldn't be retrieved for image/621.jpg https://m.media-amazon.com/images/W/WEBP_402378-T2/images/I/41Bi9ZwBQ7L._SX300_SY300_QL70_FMwebp_.jpg\n",
      "Image couldn't be retrieved for image/624.jpg https://m.media-amazon.com/images/W/WEBP_402378-T1/images/I/41PeQz-jDSL._SX300_SY300_QL70_FMwebp_.jpg\n",
      "Image couldn't be retrieved for image/627.jpg https://m.media-amazon.com/images/W/WEBP_402378-T1/images/I/31pQZsxPR4L._SX300_SY300_QL70_FMwebp_.jpg\n",
      "Image couldn't be retrieved for image/634.jpg https://m.media-amazon.com/images/W/WEBP_402378-T2/images/I/31dJ+lXJq3L._SY300_SX300_.jpg\n",
      "Image couldn't be retrieved for image/637.jpg https://m.media-amazon.com/images/W/WEBP_402378-T2/images/I/41QNSlZeKiL._SX300_SY300_QL70_FMwebp_.jpg\n",
      "Image couldn't be retrieved for image/638.jpg https://m.media-amazon.com/images/W/WEBP_402378-T1/images/I/41875hbgKyL._SY300_SX300_QL70_FMwebp_.jpg\n",
      "Image couldn't be retrieved for image/641.jpg https://m.media-amazon.com/images/W/WEBP_402378-T2/images/I/416A01cyQYL._SX300_SY300_QL70_FMwebp_.jpg\n",
      "Image couldn't be retrieved for image/642.jpg https://m.media-amazon.com/images/W/WEBP_402378-T1/images/I/41q7gsgB+gL._SY300_SX300_.jpg\n",
      "Image couldn't be retrieved for image/647.jpg https://m.media-amazon.com/images/W/WEBP_402378-T1/images/I/41PJLOoFNWL._SX300_SY300_QL70_FMwebp_.jpg\n",
      "Image couldn't be retrieved for image/649.jpg https://m.media-amazon.com/images/W/WEBP_402378-T1/images/I/41ZraPJKHYL._SY300_SX300_QL70_FMwebp_.jpg\n",
      "Image couldn't be retrieved for image/650.jpg https://m.media-amazon.com/images/W/WEBP_402378-T2/images/I/41sK3J5ZQIL._SX300_SY300_QL70_FMwebp_.jpg\n",
      "Image couldn't be retrieved for image/656.jpg https://m.media-amazon.com/images/W/WEBP_402378-T2/images/I/31ulmi5lTYL._SX300_SY300_QL70_FMwebp_.jpg\n",
      "Image couldn't be retrieved for image/658.jpg https://m.media-amazon.com/images/W/WEBP_402378-T1/images/I/31h559f7EaL._SX300_SY300_QL70_FMwebp_.jpg\n",
      "Image couldn't be retrieved for image/662.jpg https://m.media-amazon.com/images/W/WEBP_402378-T2/images/I/51v-2Nzr+ML._SY300_SX300_.jpg\n",
      "Image couldn't be retrieved for image/663.jpg https://m.media-amazon.com/images/W/WEBP_402378-T2/images/I/51v-2Nzr+ML._SY300_SX300_.jpg\n",
      "Image couldn't be retrieved for image/672.jpg https://m.media-amazon.com/images/W/WEBP_402378-T2/images/I/31WPRa-K7GL._SY445_SX342_QL70_FMwebp_.jpg\n",
      "Image couldn't be retrieved for image/677.jpg https://m.media-amazon.com/images/W/WEBP_402378-T2/images/I/316rtwd6jOL._SX300_SY300_QL70_FMwebp_.jpg\n",
      "Image couldn't be retrieved for image/679.jpg https://m.media-amazon.com/images/W/WEBP_402378-T1/images/I/31Tz8DcmevL._SX300_SY300_QL70_FMwebp_.jpg\n",
      "Image couldn't be retrieved for image/681.jpg https://m.media-amazon.com/images/W/WEBP_402378-T1/images/I/41nmeIgWsZL._SX300_SY300_QL70_FMwebp_.jpg\n",
      "Image couldn't be retrieved for image/685.jpg https://m.media-amazon.com/images/W/WEBP_402378-T2/images/I/4145oJH-y0L._SX300_SY300_QL70_FMwebp_.jpg\n",
      "Image couldn't be retrieved for image/687.jpg https://m.media-amazon.com/images/W/WEBP_402378-T1/images/I/41nGG6kJr9L._SX300_SY300_QL70_FMwebp_.jpg\n",
      "Image couldn't be retrieved for image/693.jpg https://m.media-amazon.com/images/W/WEBP_402378-T1/images/I/41V5FtEWPkL._SX300_SY300_QL70_FMwebp_.jpg\n",
      "Image couldn't be retrieved for image/696.jpg https://m.media-amazon.com/images/W/WEBP_402378-T2/images/I/31PfpEPlg-L._SX300_SY300_QL70_FMwebp_.jpg\n",
      "Image couldn't be retrieved for image/697.jpg https://m.media-amazon.com/images/W/WEBP_402378-T1/images/I/41tWgm56a0L._SX300_SY300_QL70_FMwebp_.jpg\n",
      "Image couldn't be retrieved for image/702.jpg https://m.media-amazon.com/images/W/WEBP_402378-T2/images/I/41mRWV0YG8L._SX300_SY300_QL70_FMwebp_.jpg\n",
      "Image couldn't be retrieved for image/705.jpg https://m.media-amazon.com/images/W/WEBP_402378-T1/images/I/21e4IoLXBFL._SY300_SX300_QL70_FMwebp_.jpg\n",
      "Image couldn't be retrieved for image/706.jpg https://m.media-amazon.com/images/W/WEBP_402378-T1/images/I/41kr7l+z1FL._SY300_SX300_.jpg\n",
      "Image couldn't be retrieved for image/709.jpg https://m.media-amazon.com/images/W/WEBP_402378-T1/images/I/41V4DpKc7sL._SX300_SY300_QL70_FMwebp_.jpg\n",
      "Image couldn't be retrieved for image/711.jpg https://m.media-amazon.com/images/W/WEBP_402378-T2/images/I/410GwzE+TrL._SX342_SY445_.jpg\n",
      "Image couldn't be retrieved for image/713.jpg https://m.media-amazon.com/images/W/WEBP_402378-T1/images/I/31bKIZtFGWL._SX300_SY300_QL70_FMwebp_.jpg\n",
      "Image couldn't be retrieved for image/719.jpg https://m.media-amazon.com/images/W/WEBP_402378-T1/images/I/31+EgPqYa6L._SX300_SY300_.jpg\n",
      "Image couldn't be retrieved for image/721.jpg https://m.media-amazon.com/images/W/WEBP_402378-T2/images/I/41-AORr2udL._SX300_SY300_QL70_FMwebp_.jpg\n",
      "Image couldn't be retrieved for image/726.jpg https://m.media-amazon.com/images/W/WEBP_402378-T1/images/I/41bvBlmqDdL._SX300_SY300_QL70_FMwebp_.jpg\n",
      "Image couldn't be retrieved for image/727.jpg https://m.media-amazon.com/images/W/WEBP_402378-T1/images/I/41nGfip4QuS._SX300_SY300_QL70_FMwebp_.jpg\n",
      "Image couldn't be retrieved for image/730.jpg https://m.media-amazon.com/images/W/WEBP_402378-T2/images/I/41mcGL9ei0L._SX300_SY300_QL70_FMwebp_.jpg\n",
      "Image couldn't be retrieved for image/737.jpg https://m.media-amazon.com/images/W/WEBP_402378-T2/images/I/317pd1KDJpL._SX300_SY300_QL70_FMwebp_.jpg\n",
      "Image couldn't be retrieved for image/742.jpg https://m.media-amazon.com/images/W/WEBP_402378-T2/images/I/41-76LhAc4S._SX300_SY300_QL70_FMwebp_.jpg\n",
      "Image couldn't be retrieved for image/746.jpg https://m.media-amazon.com/images/W/WEBP_402378-T2/images/I/41vooC+8vUL._SY300_SX300_.jpg\n",
      "Image couldn't be retrieved for image/752.jpg https://m.media-amazon.com/images/W/WEBP_402378-T2/images/I/41-VkhORGAL._SX300_SY300_QL70_FMwebp_.jpg\n",
      "Image couldn't be retrieved for image/755.jpg https://m.media-amazon.com/images/W/WEBP_402378-T1/images/I/41+b6inZEkL._SX300_SY300_.jpg\n",
      "Image couldn't be retrieved for image/756.jpg https://m.media-amazon.com/images/W/WEBP_402378-T2/images/I/51HNUsgY29L._SY300_SX300_QL70_FMwebp_.jpg\n",
      "Image couldn't be retrieved for image/759.jpg https://m.media-amazon.com/images/W/WEBP_402378-T2/images/I/51SzLWO7e+L._SY300_SX300_.jpg\n",
      "Image couldn't be retrieved for image/761.jpg https://m.media-amazon.com/images/W/WEBP_402378-T2/images/I/419QKVTxaSL._SX300_SY300_QL70_FMwebp_.jpg\n",
      "Image couldn't be retrieved for image/762.jpg https://m.media-amazon.com/images/W/WEBP_402378-T1/images/I/419QKVTxaSL._SX300_SY300_QL70_FMwebp_.jpg\n",
      "Image couldn't be retrieved for image/769.jpg https://m.media-amazon.com/images/W/WEBP_402378-T2/images/I/41F-EWC+v+L._SY300_SX300_.jpg\n",
      "Image couldn't be retrieved for image/771.jpg https://m.media-amazon.com/images/W/WEBP_402378-T1/images/I/416GZEi9SuL._SX300_SY300_QL70_FMwebp_.jpg\n",
      "Image couldn't be retrieved for image/774.jpg https://m.media-amazon.com/images/W/WEBP_402378-T1/images/I/41o4qDiFFwL._SX300_SY300_QL70_FMwebp_.jpg\n",
      "Image couldn't be retrieved for image/778.jpg https://m.media-amazon.com/images/W/WEBP_402378-T2/images/I/41LLX-A7eTL._SX300_SY300_QL70_FMwebp_.jpg\n",
      "Image couldn't be retrieved for image/782.jpg https://m.media-amazon.com/images/W/WEBP_402378-T1/images/I/41Xg2TPKwyL._SX300_SY300_QL70_FMwebp_.jpg\n",
      "Image couldn't be retrieved for image/784.jpg https://m.media-amazon.com/images/W/WEBP_402378-T2/images/I/51fYpZRmZ2L._SX300_SY300_QL70_FMwebp_.jpg\n",
      "Image couldn't be retrieved for image/788.jpg https://m.media-amazon.com/images/W/WEBP_402378-T2/images/I/31LsgYDJNkL._SX300_SY300_QL70_FMwebp_.jpg\n",
      "Image couldn't be retrieved for image/790.jpg https://m.media-amazon.com/images/W/WEBP_402378-T2/images/I/51ngprQwafL._SY300_SX300_QL70_FMwebp_.jpg\n",
      "Image couldn't be retrieved for image/792.jpg https://m.media-amazon.com/images/W/WEBP_402378-T1/images/I/31HCup1pqFL._SX300_SY300_QL70_FMwebp_.jpg\n",
      "Image couldn't be retrieved for image/804.jpg https://m.media-amazon.com/images/W/WEBP_402378-T1/images/I/313nBNJrT6L._SX300_SY300_QL70_FMwebp_.jpg\n",
      "Image couldn't be retrieved for image/806.jpg https://m.media-amazon.com/images/W/WEBP_402378-T2/images/I/41oSVnJMFKL._SX300_SY300_QL70_FMwebp_.jpg\n",
      "Image couldn't be retrieved for image/811.jpg https://m.media-amazon.com/images/W/WEBP_402378-T1/images/I/51pl09bEsHL._SY445_SX342_QL70_FMwebp_.jpg\n",
      "Image couldn't be retrieved for image/814.jpg https://m.media-amazon.com/images/W/WEBP_402378-T1/images/I/41xwPQLxTML._SX300_SY300_QL70_FMwebp_.jpg\n",
      "Image couldn't be retrieved for image/816.jpg https://m.media-amazon.com/images/W/WEBP_402378-T1/images/I/31DXRMiRYLL._SX300_SY300_QL70_FMwebp_.jpg\n",
      "Image couldn't be retrieved for image/817.jpg https://m.media-amazon.com/images/W/WEBP_402378-T2/images/I/41jlwEZpa5L._SX300_SY300_QL70_FMwebp_.jpg\n",
      "Image couldn't be retrieved for image/819.jpg https://m.media-amazon.com/images/W/WEBP_402378-T2/images/I/41jlwEZpa5L._SX300_SY300_QL70_FMwebp_.jpg\n",
      "Image couldn't be retrieved for image/823.jpg https://m.media-amazon.com/images/W/WEBP_402378-T2/images/I/313wnMF+cVL._SX342_SY445_.jpg\n",
      "Image couldn't be retrieved for image/824.jpg https://m.media-amazon.com/images/W/WEBP_402378-T2/images/I/21Nw+BXh1kS._SY300_SX300_.jpg\n",
      "Image couldn't be retrieved for image/825.jpg https://m.media-amazon.com/images/W/WEBP_402378-T1/images/I/41NxAkv7knL._SX300_SY300_QL70_FMwebp_.jpg\n",
      "Image couldn't be retrieved for image/834.jpg https://m.media-amazon.com/images/W/WEBP_402378-T1/images/I/41SqfLI2FuL._SX300_SY300_QL70_FMwebp_.jpg\n",
      "Image couldn't be retrieved for image/835.jpg https://m.media-amazon.com/images/W/WEBP_402378-T2/images/I/41CB7sKZvCL._SX300_SY300_QL70_FMwebp_.jpg\n",
      "Image couldn't be retrieved for image/837.jpg https://m.media-amazon.com/images/W/WEBP_402378-T1/images/I/31NRaw6L7KL._SX300_SY300_QL70_FMwebp_.jpg\n",
      "Image couldn't be retrieved for image/839.jpg https://m.media-amazon.com/images/W/WEBP_402378-T2/images/I/512Lrv2A-pL._SX300_SY300_QL70_FMwebp_.jpg\n",
      "Image couldn't be retrieved for image/843.jpg https://m.media-amazon.com/images/W/WEBP_402378-T1/images/I/41sA8PA31pL._SY300_SX300_QL70_FMwebp_.jpg\n",
      "Image couldn't be retrieved for image/847.jpg https://m.media-amazon.com/images/W/WEBP_402378-T2/images/I/51WNhYBloRL._SY300_SX300_QL70_FMwebp_.jpg\n",
      "Image couldn't be retrieved for image/849.jpg https://m.media-amazon.com/images/W/WEBP_402378-T2/images/I/31y+z3bqZcL._SY300_SX300_.jpg\n",
      "Image couldn't be retrieved for image/850.jpg https://m.media-amazon.com/images/W/WEBP_402378-T2/images/I/41qTZXl3KaL._SX300_SY300_QL70_FMwebp_.jpg\n",
      "Image couldn't be retrieved for image/851.jpg https://m.media-amazon.com/images/W/WEBP_402378-T1/images/I/411dgEJpANL._SX300_SY300_QL70_FMwebp_.jpg\n",
      "Image couldn't be retrieved for image/852.jpg https://m.media-amazon.com/images/W/WEBP_402378-T2/images/I/315o5vpD66L._SX300_SY300_QL70_FMwebp_.jpg\n",
      "Image couldn't be retrieved for image/853.jpg https://m.media-amazon.com/images/W/WEBP_402378-T2/images/I/415mgfOmzUS._SX300_SY300_QL70_FMwebp_.jpg\n",
      "Image couldn't be retrieved for image/856.jpg https://m.media-amazon.com/images/W/WEBP_402378-T1/images/I/41Y9XnzBHTL._SY300_SX300_QL70_FMwebp_.jpg\n",
      "Image couldn't be retrieved for image/860.jpg https://m.media-amazon.com/images/W/WEBP_402378-T2/images/I/317-HiMYIgS._SY300_SX300_QL70_FMwebp_.jpg\n",
      "Image couldn't be retrieved for image/863.jpg https://m.media-amazon.com/images/W/WEBP_402378-T1/images/I/41lGZWRZqOS._SX300_SY300_QL70_FMwebp_.jpg\n",
      "Image couldn't be retrieved for image/866.jpg https://m.media-amazon.com/images/W/WEBP_402378-T2/images/I/416+IXsM9lL._SY300_SX300_.jpg\n",
      "Image couldn't be retrieved for image/867.jpg https://m.media-amazon.com/images/W/WEBP_402378-T2/images/I/51JIngdPfEL._SX300_SY300_QL70_FMwebp_.jpg\n",
      "Image couldn't be retrieved for image/868.jpg https://m.media-amazon.com/images/W/WEBP_402378-T2/images/I/313V6v-Fj3S._SX300_SY300_QL70_FMwebp_.jpg\n",
      "Image couldn't be retrieved for image/870.jpg https://m.media-amazon.com/images/W/WEBP_402378-T2/images/I/41GeM83DzzL._SX300_SY300_QL70_FMwebp_.jpg\n",
      "Image couldn't be retrieved for image/875.jpg https://m.media-amazon.com/images/W/WEBP_402378-T2/images/I/31xucq3GGyL._SX300_SY300_QL70_FMwebp_.jpg\n",
      "Image couldn't be retrieved for image/882.jpg https://m.media-amazon.com/images/W/WEBP_402378-T2/images/I/41svI04SS1L._SX300_SY300_QL70_FMwebp_.jpg\n",
      "Image couldn't be retrieved for image/890.jpg https://m.media-amazon.com/images/W/WEBP_402378-T1/images/I/41h9kA2Tt7S._SX300_SY300_QL70_FMwebp_.jpg\n",
      "Image couldn't be retrieved for image/892.jpg https://m.media-amazon.com/images/W/WEBP_402378-T1/images/I/41P+nvE9FYL._SY300_SX300_.jpg\n",
      "Image couldn't be retrieved for image/897.jpg https://m.media-amazon.com/images/W/WEBP_402378-T2/images/I/3172BJyynBS._SY300_SX300_QL70_FMwebp_.jpg\n",
      "Image couldn't be retrieved for image/899.jpg https://m.media-amazon.com/images/W/WEBP_402378-T1/images/I/31z9cuviPzL._SX300_SY300_QL70_FMwebp_.jpg\n",
      "Image couldn't be retrieved for image/900.jpg https://m.media-amazon.com/images/W/WEBP_402378-T1/images/I/314qO8dyvRL._SX300_SY300_QL70_FMwebp_.jpg\n",
      "Image couldn't be retrieved for image/902.jpg https://m.media-amazon.com/images/W/WEBP_402378-T1/images/I/41XH-IpxCQL._SX300_SY300_QL70_FMwebp_.jpg\n",
      "Image couldn't be retrieved for image/903.jpg https://m.media-amazon.com/images/W/WEBP_402378-T2/images/I/31zh7GQSkfL._SX300_SY300_QL70_FMwebp_.jpg\n",
      "Image couldn't be retrieved for image/907.jpg https://m.media-amazon.com/images/W/WEBP_402378-T2/images/I/31nZs1BL4tL._SX300_SY300_QL70_FMwebp_.jpg\n",
      "Image couldn't be retrieved for image/912.jpg https://m.media-amazon.com/images/W/WEBP_402378-T2/images/I/418ML1Yn1cL._SX300_SY300_QL70_FMwebp_.jpg\n",
      "Image couldn't be retrieved for image/914.jpg https://m.media-amazon.com/images/W/WEBP_402378-T1/images/I/31TZq2dY-hL._SX300_SY300_QL70_FMwebp_.jpg\n",
      "Image couldn't be retrieved for image/921.jpg https://m.media-amazon.com/images/W/WEBP_402378-T1/images/I/21UJ6oKwnoL._SY300_SX300_QL70_FMwebp_.jpg\n",
      "Image couldn't be retrieved for image/923.jpg https://m.media-amazon.com/images/W/WEBP_402378-T2/images/I/51HO3bkK+VS._SY300_SX300_.jpg\n",
      "Image couldn't be retrieved for image/933.jpg https://m.media-amazon.com/images/W/WEBP_402378-T1/images/I/31qZm3DyDhL._SX300_SY300_QL70_FMwebp_.jpg\n",
      "Image couldn't be retrieved for image/944.jpg https://m.media-amazon.com/images/W/WEBP_402378-T1/images/I/413aXXtr4CL._SX300_SY300_QL70_FMwebp_.jpg\n",
      "Image couldn't be retrieved for image/946.jpg https://m.media-amazon.com/images/W/WEBP_402378-T1/images/I/41qhsp6qcNL._SX300_SY300_QL70_FMwebp_.jpg\n",
      "Image couldn't be retrieved for image/947.jpg https://m.media-amazon.com/images/W/WEBP_402378-T1/images/I/41v5BQZzfAL._SX300_SY300_QL70_FMwebp_.jpg\n",
      "Image couldn't be retrieved for image/958.jpg https://m.media-amazon.com/images/W/WEBP_402378-T2/images/I/31x3IUfMneL._SX300_SY300_QL70_FMwebp_.jpg\n",
      "Image couldn't be retrieved for image/967.jpg https://m.media-amazon.com/images/W/WEBP_402378-T2/images/I/41xL87ElgjL._SY300_SX300_QL70_FMwebp_.jpg\n",
      "Image couldn't be retrieved for image/970.jpg https://m.media-amazon.com/images/W/WEBP_402378-T2/images/I/315sEpeo50L._SX300_SY300_QL70_FMwebp_.jpg\n",
      "Image couldn't be retrieved for image/972.jpg https://m.media-amazon.com/images/W/WEBP_402378-T1/images/I/51q3+E64azL._SX300_SY300_.jpg\n",
      "Image couldn't be retrieved for image/981.jpg https://m.media-amazon.com/images/W/WEBP_402378-T1/images/I/31ixn2s6IbL._SX300_SY300_QL70_FMwebp_.jpg\n",
      "Image couldn't be retrieved for image/985.jpg https://m.media-amazon.com/images/W/WEBP_402378-T2/images/I/31hqtiqWTaL._SX300_SY300_QL70_FMwebp_.jpg\n",
      "Image couldn't be retrieved for image/993.jpg https://m.media-amazon.com/images/W/WEBP_402378-T1/images/I/31D9nttNSPL._SX300_SY300_QL70_FMwebp_.jpg\n",
      "Image couldn't be retrieved for image/994.jpg https://m.media-amazon.com/images/W/WEBP_402378-T2/images/I/411uVIJr+QL._SY300_SX300_.jpg\n",
      "Image couldn't be retrieved for image/1007.jpg https://m.media-amazon.com/images/W/WEBP_402378-T1/images/I/41TUgf0W8uL._SX300_SY300_QL70_FMwebp_.jpg\n",
      "Image couldn't be retrieved for image/1009.jpg https://m.media-amazon.com/images/W/WEBP_402378-T2/images/I/41UoZi45q9L._SX300_SY300_QL70_FMwebp_.jpg\n",
      "Image couldn't be retrieved for image/1011.jpg https://m.media-amazon.com/images/W/WEBP_402378-T1/images/I/31g2BiAmVjL._SY300_SX300_QL70_FMwebp_.jpg\n",
      "Image couldn't be retrieved for image/1023.jpg https://m.media-amazon.com/images/W/WEBP_402378-T1/images/I/41JnGOKI2dL._SX300_SY300_QL70_FMwebp_.jpg\n",
      "Image couldn't be retrieved for image/1034.jpg https://m.media-amazon.com/images/W/WEBP_402378-T2/images/I/21JwUdnWL4L._SX300_SY300_QL70_FMwebp_.jpg\n",
      "Image couldn't be retrieved for image/1038.jpg https://m.media-amazon.com/images/W/WEBP_402378-T1/images/I/31GCzAA+FyL._SY300_SX300_.jpg\n",
      "Image couldn't be retrieved for image/1042.jpg https://m.media-amazon.com/images/W/WEBP_402378-T2/images/I/21UKIwf0IVL._SX300_SY300_QL70_FMwebp_.jpg\n",
      "Image couldn't be retrieved for image/1043.jpg https://m.media-amazon.com/images/W/WEBP_402378-T2/images/I/41UBtJFuwEL._SX300_SY300_QL70_FMwebp_.jpg\n",
      "Image couldn't be retrieved for image/1045.jpg https://m.media-amazon.com/images/W/WEBP_402378-T1/images/I/31uBcZhDMjL._SX300_SY300_QL70_FMwebp_.jpg\n",
      "Image couldn't be retrieved for image/1047.jpg https://m.media-amazon.com/images/W/WEBP_402378-T2/images/I/21XzK-guXHL._SX300_SY300_QL70_FMwebp_.jpg\n",
      "Image couldn't be retrieved for image/1057.jpg https://m.media-amazon.com/images/W/WEBP_402378-T2/images/I/21SHZOWOynL._SX300_SY300_QL70_FMwebp_.jpg\n",
      "Image couldn't be retrieved for image/1065.jpg https://m.media-amazon.com/images/W/WEBP_402378-T1/images/I/41-kc5sVOQL._SX300_SY300_QL70_FMwebp_.jpg\n",
      "Image couldn't be retrieved for image/1067.jpg https://m.media-amazon.com/images/W/WEBP_402378-T1/images/I/31nIcqmP0zL._SX300_SY300_QL70_FMwebp_.jpg\n",
      "Image couldn't be retrieved for image/1068.jpg https://m.media-amazon.com/images/W/WEBP_402378-T1/images/I/51eq6GwXn-L._SX300_SY300_QL70_FMwebp_.jpg\n",
      "Image couldn't be retrieved for image/1073.jpg https://m.media-amazon.com/images/W/WEBP_402378-T2/images/I/31DDGpem3OL._SY445_SX342_QL70_FMwebp_.jpg\n",
      "Image couldn't be retrieved for image/1080.jpg https://m.media-amazon.com/images/W/WEBP_402378-T1/images/I/51B4Ea7gRCL._SX300_SY300_QL70_FMwebp_.jpg\n",
      "Image couldn't be retrieved for image/1092.jpg https://m.media-amazon.com/images/W/WEBP_402378-T1/images/I/31psvbJkfOL._SY300_SX300_QL70_FMwebp_.jpg\n",
      "Image couldn't be retrieved for image/1095.jpg https://m.media-amazon.com/images/W/WEBP_402378-T2/images/I/31w1SSKA-tL._SX300_SY300_QL70_FMwebp_.jpg\n",
      "Image couldn't be retrieved for image/1096.jpg https://m.media-amazon.com/images/W/WEBP_402378-T1/images/I/21df9THeM-L._SX300_SY300_QL70_FMwebp_.jpg\n",
      "Image couldn't be retrieved for image/1109.jpg https://m.media-amazon.com/images/W/WEBP_402378-T1/images/I/41A4CcuIJuL._SY445_SX342_QL70_FMwebp_.jpg\n",
      "Image couldn't be retrieved for image/1127.jpg https://m.media-amazon.com/images/W/WEBP_402378-T1/images/I/41P2EdQI1ZL._SY445_SX342_QL70_FMwebp_.jpg\n",
      "Image couldn't be retrieved for image/1132.jpg https://m.media-amazon.com/images/W/WEBP_402378-T1/images/I/31CndDabh2L._SX300_SY300_QL70_FMwebp_.jpg\n",
      "Image couldn't be retrieved for image/1143.jpg https://m.media-amazon.com/images/W/WEBP_402378-T2/images/I/31kFRC4fP6L._SY300_SX300_QL70_FMwebp_.jpg\n",
      "Image couldn't be retrieved for image/1145.jpg https://m.media-amazon.com/images/W/WEBP_402378-T2/images/I/41dNwzNOc3L._SX300_SY300_QL70_FMwebp_.jpg\n",
      "Image couldn't be retrieved for image/1155.jpg https://m.media-amazon.com/images/W/WEBP_402378-T2/images/I/41t4-FpawsL._SX300_SY300_QL70_FMwebp_.jpg\n",
      "Image couldn't be retrieved for image/1156.jpg https://m.media-amazon.com/images/W/WEBP_402378-T2/images/I/51ovMTXv9RL._SX300_SY300_QL70_FMwebp_.jpg\n",
      "Image couldn't be retrieved for image/1158.jpg https://m.media-amazon.com/images/W/WEBP_402378-T1/images/I/31qaROshXhL._SX300_SY300_QL70_FMwebp_.jpg\n",
      "Image couldn't be retrieved for image/1162.jpg https://m.media-amazon.com/images/W/WEBP_402378-T2/images/I/51kEztAe73L._SX300_SY300_QL70_FMwebp_.jpg\n",
      "Image couldn't be retrieved for image/1165.jpg https://m.media-amazon.com/images/W/WEBP_402378-T2/images/I/4177nw8okbL._SX300_SY300_QL70_FMwebp_.jpg\n",
      "Image couldn't be retrieved for image/1168.jpg https://m.media-amazon.com/images/W/WEBP_402378-T2/images/I/41HoeX-PcDL._SY445_SX342_QL70_FMwebp_.jpg\n",
      "Image couldn't be retrieved for image/1169.jpg https://m.media-amazon.com/images/W/WEBP_402378-T1/images/I/41YFjcEIwWL._SX300_SY300_QL70_FMwebp_.jpg\n",
      "Image couldn't be retrieved for image/1178.jpg https://m.media-amazon.com/images/W/WEBP_402378-T1/images/I/41x8yDAjWJL._SX300_SY300_QL70_FMwebp_.jpg\n",
      "Image couldn't be retrieved for image/1192.jpg https://m.media-amazon.com/images/W/WEBP_402378-T1/images/I/31oK2IDhhLL._SX300_SY300_QL70_FMwebp_.jpg\n",
      "Image couldn't be retrieved for image/1197.jpg https://m.media-amazon.com/images/W/WEBP_402378-T1/images/I/213GZPC7uwL._SX300_SY300_QL70_FMwebp_.jpg\n",
      "Image couldn't be retrieved for image/1198.jpg https://m.media-amazon.com/images/W/WEBP_402378-T1/images/I/41WD+zBGibL._SY300_SX300_.jpg\n",
      "Image couldn't be retrieved for image/1201.jpg https://m.media-amazon.com/images/W/WEBP_402378-T2/images/I/31VemHkewfL._SX300_SY300_QL70_FMwebp_.jpg\n",
      "Image couldn't be retrieved for image/1205.jpg https://m.media-amazon.com/images/W/WEBP_402378-T2/images/I/414P4JCZY-L._SX300_SY300_QL70_FMwebp_.jpg\n",
      "Image couldn't be retrieved for image/1212.jpg https://m.media-amazon.com/images/W/WEBP_402378-T2/images/I/41ApzUQQFVL._SX300_SY300_QL70_FMwebp_.jpg\n",
      "Image couldn't be retrieved for image/1228.jpg https://m.media-amazon.com/images/W/WEBP_402378-T2/images/I/31ZMMGdh5nL._SX300_SY300_QL70_FMwebp_.jpg\n",
      "Image couldn't be retrieved for image/1231.jpg https://m.media-amazon.com/images/W/WEBP_402378-T1/images/I/41IAkUhz1NL._SY300_SX300_QL70_FMwebp_.jpg\n",
      "Image couldn't be retrieved for image/1233.jpg https://m.media-amazon.com/images/W/WEBP_402378-T2/images/I/31Ly7OehCGL._SX300_SY300_QL70_FMwebp_.jpg\n",
      "Image couldn't be retrieved for image/1239.jpg https://m.media-amazon.com/images/W/WEBP_402378-T2/images/I/41ECCMs7tjL._SY300_SX300_QL70_FMwebp_.jpg\n",
      "Image couldn't be retrieved for image/1241.jpg https://m.media-amazon.com/images/W/WEBP_402378-T2/images/I/31ylgpMYDwL._SX300_SY300_QL70_FMwebp_.jpg\n",
      "Image couldn't be retrieved for image/1248.jpg https://m.media-amazon.com/images/W/WEBP_402378-T2/images/I/31i5nmWFmhL._SX300_SY300_QL70_FMwebp_.jpg\n",
      "Image couldn't be retrieved for image/1261.jpg https://m.media-amazon.com/images/W/WEBP_402378-T1/images/I/31tk9yOK-qL._SX300_SY300_QL70_FMwebp_.jpg\n",
      "Image couldn't be retrieved for image/1286.jpg https://m.media-amazon.com/images/W/WEBP_402378-T1/images/I/31KGeL7u8hL._SX300_SY300_QL70_FMwebp_.jpg\n",
      "Image couldn't be retrieved for image/1287.jpg https://m.media-amazon.com/images/W/WEBP_402378-T2/images/I/51dOjIreG4L._SX300_SY300_QL70_FMwebp_.jpg\n",
      "Image couldn't be retrieved for image/1288.jpg https://m.media-amazon.com/images/W/WEBP_402378-T1/images/I/51dOjIreG4L._SX300_SY300_QL70_FMwebp_.jpg\n",
      "Image couldn't be retrieved for image/1289.jpg https://m.media-amazon.com/images/W/WEBP_402378-T1/images/I/41Q5zqyjWPL._SY300_SX300_QL70_FMwebp_.jpg\n",
      "Image couldn't be retrieved for image/1301.jpg https://m.media-amazon.com/images/W/WEBP_402378-T1/images/I/41ipWb8mrKL._SX300_SY300_QL70_FMwebp_.jpg\n",
      "Image couldn't be retrieved for image/1309.jpg https://m.media-amazon.com/images/W/WEBP_402378-T2/images/I/31XFe74gRjL._SX300_SY300_QL70_FMwebp_.jpg\n",
      "Image couldn't be retrieved for image/1316.jpg https://m.media-amazon.com/images/W/WEBP_402378-T2/images/I/51wxUA6-CBL._SX300_SY300_QL70_FMwebp_.jpg\n",
      "Image couldn't be retrieved for image/1322.jpg https://m.media-amazon.com/images/W/WEBP_402378-T2/images/I/31MQ2YXMb4L._SY445_SX342_QL70_FMwebp_.jpg\n",
      "Image couldn't be retrieved for image/1324.jpg https://m.media-amazon.com/images/W/WEBP_402378-T1/images/I/41Wq-obB2VL._SX300_SY300_QL70_FMwebp_.jpg\n",
      "Image couldn't be retrieved for image/1325.jpg https://m.media-amazon.com/images/W/WEBP_402378-T2/images/I/31tiptnSbZL._SX300_SY300_QL70_FMwebp_.jpg\n",
      "Image couldn't be retrieved for image/1327.jpg https://m.media-amazon.com/images/W/WEBP_402378-T2/images/I/41Peg4pz7fL._SX300_SY300_QL70_FMwebp_.jpg\n",
      "Image couldn't be retrieved for image/1331.jpg https://m.media-amazon.com/images/W/WEBP_402378-T2/images/I/41SNaWjuZWL._SX300_SY300_QL70_FMwebp_.jpg\n",
      "Image couldn't be retrieved for image/1332.jpg https://m.media-amazon.com/images/W/WEBP_402378-T1/images/I/41SNaWjuZWL._SX300_SY300_QL70_FMwebp_.jpg\n",
      "Image couldn't be retrieved for image/1335.jpg https://m.media-amazon.com/images/W/WEBP_402378-T2/images/I/41wgqEfJy3L._SX300_SY300_QL70_FMwebp_.jpg\n",
      "Image couldn't be retrieved for image/1338.jpg https://m.media-amazon.com/images/W/WEBP_402378-T1/images/I/61Vt5Egqf4L._SY445_SX342_QL70_FMwebp_.jpg\n",
      "Image couldn't be retrieved for image/1353.jpg https://m.media-amazon.com/images/W/WEBP_402378-T1/images/I/41gztmbiIgL._SX300_SY300_QL70_FMwebp_.jpg\n",
      "Image couldn't be retrieved for image/1363.jpg https://m.media-amazon.com/images/W/WEBP_402378-T1/images/I/31RZz5dsEVL._SX300_SY300_QL70_FMwebp_.jpg\n",
      "Image couldn't be retrieved for image/1392.jpg https://m.media-amazon.com/images/W/WEBP_402378-T1/images/I/413b+0JACfL._SX300_SY300_.jpg\n",
      "Image couldn't be retrieved for image/1393.jpg https://m.media-amazon.com/images/W/WEBP_402378-T2/images/I/41pdZIhY+gL._SY300_SX300_.jpg\n",
      "Image couldn't be retrieved for image/1395.jpg https://m.media-amazon.com/images/W/WEBP_402378-T1/images/I/31i-KNZeKML._SX300_SY300_QL70_FMwebp_.jpg\n",
      "Image couldn't be retrieved for image/1415.jpg https://m.media-amazon.com/images/W/WEBP_402378-T2/images/I/41rbKciLrcL._SX300_SY300_QL70_FMwebp_.jpg\n",
      "Image couldn't be retrieved for image/1418.jpg https://m.media-amazon.com/images/W/WEBP_402378-T1/images/I/41e3A7YKxeL._SX300_SY300_QL70_FMwebp_.jpg\n",
      "Image couldn't be retrieved for image/1421.jpg https://m.media-amazon.com/images/W/WEBP_402378-T1/images/I/41AKgxsBONL._SY300_SX300_QL70_FMwebp_.jpg\n",
      "Image couldn't be retrieved for image/1425.jpg https://m.media-amazon.com/images/W/WEBP_402378-T2/images/I/41NSz+RdSoL._SX342_SY445_.jpg\n",
      "Image couldn't be retrieved for image/1426.jpg https://m.media-amazon.com/images/W/WEBP_402378-T1/images/I/41ZvKRULvDL._SY445_SX342_QL70_FMwebp_.jpg\n",
      "Image couldn't be retrieved for image/1445.jpg https://m.media-amazon.com/images/W/WEBP_402378-T1/images/I/416wtLbGHvL._SX300_SY300_QL70_FMwebp_.jpg\n",
      "Image couldn't be retrieved for image/1457.jpg https://m.media-amazon.com/images/W/WEBP_402378-T1/images/I/41hoHTbN5rL._SX300_SY300_QL70_FMwebp_.jpg\n",
      "Image couldn't be retrieved for image/1458.jpg https://m.media-amazon.com/images/W/WEBP_402378-T1/images/I/51ey0zzictL._SX300_SY300_QL70_FMwebp_.jpg\n",
      "Image couldn't be retrieved for image/1459.jpg https://m.media-amazon.com/images/W/WEBP_402378-T1/images/I/51ey0zzictL._SX300_SY300_QL70_FMwebp_.jpg\n"
     ]
    }
   ],
   "source": [
    "from PIL import Image\n",
    "skipped_index = []\n",
    "for i, row in data.iterrows():\n",
    "    # if image exists, skip\n",
    "    try:\n",
    "        img = Image.open('image/' + str(i) + '.jpg')\n",
    "        continue\n",
    "    except:\n",
    "        download_image(row['img_link'], 'image/' + str(i) + '.jpg', i)"
   ],
   "metadata": {
    "collapsed": false
   }
  },
  {
   "cell_type": "code",
   "execution_count": 13,
   "outputs": [],
   "source": [
    "# Drop the rows that don't have images\n",
    "data = data.drop(skipped_index)"
   ],
   "metadata": {
    "collapsed": false
   }
  },
  {
   "cell_type": "markdown",
   "source": [
    "# Save the data"
   ],
   "metadata": {
    "collapsed": false
   }
  },
  {
   "cell_type": "code",
   "execution_count": 14,
   "outputs": [],
   "source": [
    "data.to_csv('Amazon_cleaned.csv', index_label='index')"
   ],
   "metadata": {
    "collapsed": false
   }
  },
  {
   "cell_type": "code",
   "execution_count": 15,
   "outputs": [],
   "source": [
    "from PIL import Image\n",
    "\n",
    "# check if every image is downloaded\n",
    "\n",
    "for i, row in data.iterrows():\n",
    "    try:\n",
    "        img = Image.open('image/' + str(i) + '.jpg')\n",
    "    except:\n",
    "        print(i)"
   ],
   "metadata": {
    "collapsed": false
   }
  },
  {
   "cell_type": "code",
   "execution_count": 15,
   "outputs": [],
   "source": [],
   "metadata": {
    "collapsed": false
   }
  }
 ],
 "metadata": {
  "kernelspec": {
   "display_name": "Python 3",
   "language": "python",
   "name": "python3"
  },
  "language_info": {
   "codemirror_mode": {
    "name": "ipython",
    "version": 2
   },
   "file_extension": ".py",
   "mimetype": "text/x-python",
   "name": "python",
   "nbconvert_exporter": "python",
   "pygments_lexer": "ipython2",
   "version": "2.7.6"
  }
 },
 "nbformat": 4,
 "nbformat_minor": 0
}
